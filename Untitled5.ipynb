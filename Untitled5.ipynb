{
  "nbformat": 4,
  "nbformat_minor": 0,
  "metadata": {
    "colab": {
      "name": "Untitled5.ipynb",
      "provenance": [],
      "authorship_tag": "ABX9TyMx9AshWCmtnkrQlWXjU5td",
      "include_colab_link": true
    },
    "kernelspec": {
      "name": "python3",
      "display_name": "Python 3"
    },
    "language_info": {
      "name": "python"
    }
  },
  "cells": [
    {
      "cell_type": "markdown",
      "metadata": {
        "id": "view-in-github",
        "colab_type": "text"
      },
      "source": [
        "<a href=\"https://colab.research.google.com/github/nak650228/vTuber/blob/main/Untitled5.ipynb\" target=\"_parent\"><img src=\"https://colab.research.google.com/assets/colab-badge.svg\" alt=\"Open In Colab\"/></a>"
      ]
    },
    {
      "cell_type": "code",
      "source": [
        "import json"
      ],
      "metadata": {
        "id": "0LM8PTk4tK8H"
      },
      "execution_count": 1,
      "outputs": []
    },
    {
      "cell_type": "code",
      "execution_count": 2,
      "metadata": {
        "colab": {
          "base_uri": "https://localhost:8080/"
        },
        "id": "5wCXNopLvRsU",
        "outputId": "8aa4dd03-28f9-4f53-b563-140c0c85d966"
      },
      "outputs": [
        {
          "output_type": "stream",
          "name": "stdout",
          "text": [
            "Collecting yt-dlp\n",
            "  Downloading yt_dlp-2022.2.4-py2.py3-none-any.whl (2.5 MB)\n",
            "\u001b[K     |████████████████████████████████| 2.5 MB 6.5 MB/s \n",
            "\u001b[?25hCollecting pycryptodomex\n",
            "  Downloading pycryptodomex-3.14.1-cp35-abi3-manylinux2010_x86_64.whl (2.0 MB)\n",
            "\u001b[K     |████████████████████████████████| 2.0 MB 44.0 MB/s \n",
            "\u001b[?25hCollecting websockets\n",
            "  Downloading websockets-10.1-cp37-cp37m-manylinux_2_5_x86_64.manylinux1_x86_64.manylinux_2_12_x86_64.manylinux2010_x86_64.whl (111 kB)\n",
            "\u001b[K     |████████████████████████████████| 111 kB 16.2 MB/s \n",
            "\u001b[?25hCollecting mutagen\n",
            "  Downloading mutagen-1.45.1-py3-none-any.whl (218 kB)\n",
            "\u001b[K     |████████████████████████████████| 218 kB 41.5 MB/s \n",
            "\u001b[?25hInstalling collected packages: websockets, pycryptodomex, mutagen, yt-dlp\n",
            "Successfully installed mutagen-1.45.1 pycryptodomex-3.14.1 websockets-10.1 yt-dlp-2022.2.4\n"
          ]
        }
      ],
      "source": [
        "!python3 -m pip install -U yt-dlp"
      ]
    },
    {
      "cell_type": "code",
      "source": [
        "#@title ##**URLの入力** { display-mode: \"form\" }\n",
        "#@markdown ダウンロードする動画のURLを指定します。\n",
        "\n",
        "\n",
        "target_url = 'https://www.youtube.com/watch?v=iXXZ8kCNPxQ' #@param {type:\"string\"}\n"
      ],
      "metadata": {
        "id": "hQf1y07-_h5_"
      },
      "execution_count": 12,
      "outputs": []
    },
    {
      "cell_type": "code",
      "source": [
        "!yt-dlp --format bestvideo[ext=mp4]+bestaudio[ext=m4a]  --write-comments  $target_url\n",
        "#!yt-dlp --no-add-metadata --format bestvideo[ext=mp4]+bestaudio[ext=m4a]  --extractor-args \"comment_sort:top\"  --merge-output-format mp4  --write-description --write-comments --write-auto-subs $target_url"
      ],
      "metadata": {
        "colab": {
          "base_uri": "https://localhost:8080/"
        },
        "id": "wzYVznCy3IWx",
        "outputId": "92201010-f9ce-40ed-f6a5-7433891ad9bc"
      },
      "execution_count": 13,
      "outputs": [
        {
          "output_type": "stream",
          "name": "stdout",
          "text": [
            "[youtube] iXXZ8kCNPxQ: Downloading webpage\n",
            "[youtube] iXXZ8kCNPxQ: Downloading android player API JSON\n",
            "[youtube] iXXZ8kCNPxQ: Downloading player 0cd11746\n",
            "[info] iXXZ8kCNPxQ: Downloading 1 format(s): 299+140\n",
            "[youtube] Downloading comment section API JSON\n",
            "[youtube] Downloading ~16 comments\n",
            "[youtube] Sorting comments by newest first\n",
            "[youtube] Downloading comment API JSON page 1 (0/16)\n",
            "[youtube] Extracted 16 comments\n",
            "[info] Writing video metadata as JSON to: ロボキッス踊ってみた【.BPM(ドットビーピーエム)】 [iXXZ8kCNPxQ].info.json\n",
            "[download] Destination: ロボキッス踊ってみた【.BPM(ドットビーピーエム)】 [iXXZ8kCNPxQ].f299.mp4\n",
            "\u001b[K[download] 100% of 141.28MiB in \u001b[1;37m00:18\u001b[0m\n",
            "[download] Destination: ロボキッス踊ってみた【.BPM(ドットビーピーエム)】 [iXXZ8kCNPxQ].f140.m4a\n",
            "\u001b[K[download] 100% of 3.20MiB in \u001b[1;37m00:00\u001b[0m\n",
            "[Merger] Merging formats into \"ロボキッス踊ってみた【.BPM(ドットビーピーエム)】 [iXXZ8kCNPxQ].mp4\"\n",
            "Deleting original file ロボキッス踊ってみた【.BPM(ドットビーピーエム)】 [iXXZ8kCNPxQ].f140.m4a (pass -k to keep)\n",
            "Deleting original file ロボキッス踊ってみた【.BPM(ドットビーピーエム)】 [iXXZ8kCNPxQ].f299.mp4 (pass -k to keep)\n"
          ]
        }
      ]
    },
    {
      "cell_type": "code",
      "source": [
        "json_open = open ('/content/ロボキッス踊ってみた【.BPM(ドットビーピーエム)】 [iXXZ8kCNPxQ].info.json','r')\n",
        "json_load = json.load(json_open)\n",
        "\n",
        "print(json_load['comments'] )"
      ],
      "metadata": {
        "id": "x7c9Uo-YtVnU",
        "outputId": "07c1b17b-33cc-441d-9973-442225e5ba6e",
        "colab": {
          "base_uri": "https://localhost:8080/"
        }
      },
      "execution_count": 16,
      "outputs": [
        {
          "output_type": "stream",
          "name": "stdout",
          "text": [
            "[{'id': 'UgzeY1esY7TnRUFT1ZV4AaABAg', 'text': '良いね～✨もっと踊ってみたやって下さい🎵', 'timestamp': 1643155200, 'time_text': '12 days ago', 'like_count': 0, 'is_favorited': False, 'author': '高橋清己', 'author_id': 'UC31ABCNA_q5unCxVGJpNSvg', 'author_thumbnail': 'https://yt3.ggpht.com/ytc/AKedOLQw5viuoyYc9X0oUlTtp9HbZdCBcdCWYWBmlg=s176-c-k-c0x00ffffff-no-rj', 'author_is_uploader': False, 'parent': 'root'}, {'id': 'UgyS9av3oheBfyiI6xB4AaABAg', 'text': 'Прикольно суки суки 😀👍👏', 'timestamp': 1638835200, 'time_text': '2 months ago', 'like_count': 0, 'is_favorited': False, 'author': 'Юрий Нестеров', 'author_id': 'UCWNvnc8veoVjVkrv9EMS7ng', 'author_thumbnail': 'https://yt3.ggpht.com/ytc/AKedOLSQKoLzcyzz9SIUH_z5O_U_toUkcl8udrlUQtSD8A=s176-c-k-c0x00ffffff-no-rj', 'author_is_uploader': False, 'parent': 'root'}, {'id': 'UgynfRR8rnCaDlUCcFF4AaABAg', 'text': 'CUTE💕💕💕', 'timestamp': 1638835200, 'time_text': '2 months ago', 'like_count': 0, 'is_favorited': False, 'author': 'Taylor S.', 'author_id': 'UCduYb3mJJDbOkBdYyZY9e9Q', 'author_thumbnail': 'https://yt3.ggpht.com/ytc/AKedOLRdteQ7tgrj4dT5uG_iRyCRrR4iLcOo9YvpugCCAA=s176-c-k-c0x00ffffff-no-rj', 'author_is_uploader': False, 'parent': 'root'}, {'id': 'UgzxQSe5cUKfT3ltlxl4AaABAg', 'text': 'じーっと見てたら、だんだん２人がつじかごに見えてきた(^▽^;)\\nめっちゃなりきってますね\\n本当、懐かしかったです(´へωへ`*)', 'timestamp': 1638835200, 'time_text': '2 months ago', 'like_count': 0, 'is_favorited': False, 'author': '肴.', 'author_id': 'UCv8WEWyCInbdYHv9TrUp8zw', 'author_thumbnail': 'https://yt3.ggpht.com/ytc/AKedOLQSqdJyu1SsfDjSEIljlFsXVCIOdmRvLb2kug=s176-c-k-c0x00ffffff-no-rj', 'author_is_uploader': False, 'parent': 'root'}, {'id': 'Ugzbct87Rj3ySvqD-uZ4AaABAg', 'text': 'ワンマン思い出すー😆😆', 'timestamp': 1638835200, 'time_text': '2 months ago', 'like_count': 0, 'is_favorited': False, 'author': 'けいすけ', 'author_id': 'UCN-R79Sqni7VTPs5IiWOlFQ', 'author_thumbnail': 'https://yt3.ggpht.com/ytc/AKedOLT24x5mMklnOrh1DBOGXaOv8qtQw1QxQEXwg2i5fFo=s176-c-k-c0x00ffffff-no-rj', 'author_is_uploader': False, 'parent': 'root'}, {'id': 'UgxXiIgUGmTMgD27KeN4AaABAg', 'text': 'なんと美しい ！！', 'timestamp': 1638835200, 'time_text': '2 months ago', 'like_count': 1, 'is_favorited': False, 'author': 'Sebastián Obed', 'author_id': 'UC6A4f5Tsf-QZu1ZmMmzzefQ', 'author_thumbnail': 'https://yt3.ggpht.com/ytc/AKedOLQgGWcSQYefRORbxYLXdN7sjSqx9fb-splxGDgBMlGrBljPhczOm4DNaA5ade2k=s176-c-k-c0x00ffffff-no-rj', 'author_is_uploader': False, 'parent': 'root'}, {'id': 'Ugw4xV9yrlsG4LvQ9x54AaABAg', 'text': 'わ〜ダンス動画嬉しいです〜(＞＜)\\n2人とも可愛い😭振り付けがピッタリ😭💖', 'timestamp': 1638835200, 'time_text': '2 months ago', 'like_count': 0, 'is_favorited': False, 'author': 'やまさん', 'author_id': 'UCy8sXPVWH8VTJiF0M0xFxCA', 'author_thumbnail': 'https://yt3.ggpht.com/ytc/AKedOLQVfhDIwYD3bHDgGDn5SNnz1ByOyHMq-Q_-tDeNOQ=s176-c-k-c0x00ffffff-no-rj', 'author_is_uploader': False, 'parent': 'root'}, {'id': 'UgzxakyGwB8x_aobokd4AaABAg', 'text': 'これはすごいぞ💚❤️かわいすぎてめまいがしたわ', 'timestamp': 1638835200, 'time_text': '2 months ago', 'like_count': 0, 'is_favorited': False, 'author': 'あき吉兄', 'author_id': 'UCuaepMeKmwio-_cyWa4AuCw', 'author_thumbnail': 'https://yt3.ggpht.com/ytc/AKedOLRAzipxvpoWo1B2rxe-bRrDgvG2TwrtbWuqdw=s176-c-k-c0x00ffffff-no-rj', 'author_is_uploader': False, 'parent': 'root'}, {'id': 'UgxdmN8RouFL995IdSt4AaABAg', 'text': 'ワンマンで観てから衣装も2人もぜんぶ可愛くて大好きなので嬉しすぎる（ ;  ; ）', 'timestamp': 1638835200, 'time_text': '2 months ago', 'like_count': 0, 'is_favorited': False, 'author': 'どんぐりこ', 'author_id': 'UCZYvOU0Qg1zZ7XGDg61PZCg', 'author_thumbnail': 'https://yt3.ggpht.com/ytc/AKedOLSpYr2xBnF-Cp79YPLvEcYZIoPsqz30QjIpGg=s176-c-k-c0x00ffffff-no-rj', 'author_is_uploader': False, 'parent': 'root'}, {'id': 'UgzA_z1J61lAwwKHA914AaABAg', 'text': '懐かしいし可愛すぎる！！！(笑\\u3000衣装の色や最後の名前を表示したところの色も合わせてるんですね\\n素敵でした！とにかく可愛かった！＼＾ｗ＾／', 'timestamp': 1638835200, 'time_text': '2 months ago', 'like_count': 0, 'is_favorited': False, 'author': 'mukaiken sawa', 'author_id': 'UCK-jzfj5P_-QD_-RnU6JsKA', 'author_thumbnail': 'https://yt3.ggpht.com/ytc/AKedOLT5TMCCl0iQp2P4b6yMJomu6aP8ppFqBxo49Ons=s176-c-k-c0x00ffffff-no-rj', 'author_is_uploader': False, 'parent': 'root'}, {'id': 'UgxhvoJf56rzO-el0nx4AaABAg', 'text': 'イイね～👍️✨', 'timestamp': 1638835200, 'time_text': '2 months ago', 'like_count': 0, 'is_favorited': False, 'author': 'co. koyano', 'author_id': 'UCZzQ9pfINqAt660AswBFJcg', 'author_thumbnail': 'https://yt3.ggpht.com/ytc/AKedOLTjNVtiz56Mxe56D9B2WQ_HSGIn_ii7yTBC3lVXG70=s176-c-k-c0x00ffffff-no-rj', 'author_is_uploader': False, 'parent': 'root'}, {'id': 'UgySuji6X_FI3iD7if94AaABAg', 'text': '石黒、感無量です。😭', 'timestamp': 1638835200, 'time_text': '2 months ago', 'like_count': 0, 'is_favorited': False, 'author': 'しんや丸船長', 'author_id': 'UCFHvSXkvk1GRVggBhNdxBiQ', 'author_thumbnail': 'https://yt3.ggpht.com/ytc/AKedOLQvXDMHkyBHypA5B2FPfiuGxPGaPg4BDwf8Hl00PQ=s176-c-k-c0x00ffffff-no-rj', 'author_is_uploader': False, 'parent': 'root'}, {'id': 'UgwPXznLJDDqaOAX-3B4AaABAg', 'text': 'この組み合わせでハロプロ曲踊ってみたしてくれるの最高かよ。😂💓👍🏼', 'timestamp': 1638835200, 'time_text': '2 months ago', 'like_count': 0, 'is_favorited': False, 'author': 'ゆーいちろう.', 'author_id': 'UCbNWlENScb-8FfouVFaSFMw', 'author_thumbnail': 'https://yt3.ggpht.com/ytc/AKedOLQMjRu6KBkRNG0_0DuFr3yuGNx_k1tWvUl3dpoU=s176-c-k-c0x00ffffff-no-rj', 'author_is_uploader': False, 'parent': 'root'}, {'id': 'UgweGxHLfwq9dBHvECN4AaABAg', 'text': 'ハロオタです！最強にかわいい🥰', 'timestamp': 1638835200, 'time_text': '2 months ago', 'like_count': 0, 'is_favorited': False, 'author': 'ぬぬ', 'author_id': 'UCEE0CFBW7khI01LQITzSozg', 'author_thumbnail': 'https://yt3.ggpht.com/ytc/AKedOLQToR8-Y2iJH4_L1cIvwYofeg0eR9sY0bb0DIfi_g=s176-c-k-c0x00ffffff-no-rj', 'author_is_uploader': False, 'parent': 'root'}, {'id': 'Ugwub-JLC3_khHuHjDt4AaABAg', 'text': 'ハロオタの人にはとんでもないことみたいね‼️\\nこのコンビまた見たいなー🦄🦖', 'timestamp': 1638835200, 'time_text': '2 months ago', 'like_count': 0, 'is_favorited': False, 'author': '国宝好き😎', 'author_id': 'UCFdfj8Q8-eDTMLOYvHNxH6Q', 'author_thumbnail': 'https://yt3.ggpht.com/XJ2d0rukNvy4UbmNthjmdPJu_wjhJ2XNEgT4nEYGk7nUm3NM8Hy5f_j07Byl6JsXU4n--t82aA=s176-c-k-c0x00ffffff-no-rj', 'author_is_uploader': False, 'parent': 'root'}, {'id': 'UgyffWu9mAmtiy1je9l4AaABAg', 'text': 'いちいいね❤️勝ち申した🙌', 'timestamp': 1638835200, 'time_text': '2 months ago', 'like_count': 0, 'is_favorited': False, 'author': 'ぜんちゃん', 'author_id': 'UCPoNamPPZHhOjdtIlxcJvLg', 'author_thumbnail': 'https://yt3.ggpht.com/ytc/AKedOLQ-Xq9GJ8XfzoMDY8oL6gnA8u-NFjpELMH19khQlA=s176-c-k-c0x00ffffff-no-rj', 'author_is_uploader': False, 'parent': 'root'}]\n"
          ]
        }
      ]
    },
    {
      "cell_type": "code",
      "source": [
        "#@title ##**動画を表示** { display-mode: \"form\" }\n",
        "\n",
        "#@markdown　ダウンロードした動画を表示します。\n",
        "\n",
        "#@markdown  下のフィールド右端の▼をクリックして”download\"を選択すると、表示されている動画をダウンロードできます。\n",
        "what_next = 'play' #@param [\"play\", \"download\"]\n",
        "if what_next == \"play\":\n",
        "#  display(mpy.ipython_display(\"/content/video.mp4\", height=400, autoplay=1, maxduration=600))\n",
        "  display(mpy.ipython_display(\"/content/video.mp4\", autoplay=1, maxduration=600, width=640))\n",
        "else:\n",
        "  files.download('/content/video.mp4')\n",
        "\n",
        "print (\"フレームレート: \",fps_of_video)\n",
        "print (\"総フレーム数　: \",frames_of_video)\n",
        "print (\"解像度（横）　: \",width_of_video)\n",
        "print (\"解像度（縦）　: \",height_of_video)"
      ],
      "metadata": {
        "id": "XYyUVpUQBebS"
      },
      "execution_count": null,
      "outputs": []
    }
  ]
}