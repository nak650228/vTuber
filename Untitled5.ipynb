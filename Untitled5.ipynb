{
  "nbformat": 4,
  "nbformat_minor": 0,
  "metadata": {
    "colab": {
      "name": "Untitled5.ipynb",
      "provenance": [],
      "authorship_tag": "ABX9TyNIwib9bDTqQ5nsS5m1Vo4A",
      "include_colab_link": true
    },
    "kernelspec": {
      "name": "python3",
      "display_name": "Python 3"
    },
    "language_info": {
      "name": "python"
    }
  },
  "cells": [
    {
      "cell_type": "markdown",
      "metadata": {
        "id": "view-in-github",
        "colab_type": "text"
      },
      "source": [
        "<a href=\"https://colab.research.google.com/github/nak650228/vTuber/blob/main/Untitled5.ipynb\" target=\"_parent\"><img src=\"https://colab.research.google.com/assets/colab-badge.svg\" alt=\"Open In Colab\"/></a>"
      ]
    },
    {
      "cell_type": "code",
      "source": [
        "# coding:utf-8"
      ],
      "metadata": {
        "id": "MrL1gU2LW1uf"
      },
      "execution_count": 1,
      "outputs": []
    },
    {
      "cell_type": "code",
      "execution_count": 2,
      "metadata": {
        "colab": {
          "base_uri": "https://localhost:8080/"
        },
        "id": "5wCXNopLvRsU",
        "outputId": "a8b15bf4-cd94-439a-ec5e-ecf4fdc75f19"
      },
      "outputs": [
        {
          "output_type": "stream",
          "name": "stdout",
          "text": [
            "Collecting yt-dlp\n",
            "  Downloading yt_dlp-2022.2.4-py2.py3-none-any.whl (2.5 MB)\n",
            "\u001b[K     |████████████████████████████████| 2.5 MB 5.1 MB/s \n",
            "\u001b[?25hCollecting pycryptodomex\n",
            "  Downloading pycryptodomex-3.14.1-cp35-abi3-manylinux2010_x86_64.whl (2.0 MB)\n",
            "\u001b[K     |████████████████████████████████| 2.0 MB 39.0 MB/s \n",
            "\u001b[?25hCollecting mutagen\n",
            "  Downloading mutagen-1.45.1-py3-none-any.whl (218 kB)\n",
            "\u001b[K     |████████████████████████████████| 218 kB 48.0 MB/s \n",
            "\u001b[?25hCollecting websockets\n",
            "  Downloading websockets-10.1-cp37-cp37m-manylinux_2_5_x86_64.manylinux1_x86_64.manylinux_2_12_x86_64.manylinux2010_x86_64.whl (111 kB)\n",
            "\u001b[K     |████████████████████████████████| 111 kB 46.4 MB/s \n",
            "\u001b[?25hInstalling collected packages: websockets, pycryptodomex, mutagen, yt-dlp\n",
            "Successfully installed mutagen-1.45.1 pycryptodomex-3.14.1 websockets-10.1 yt-dlp-2022.2.4\n"
          ]
        }
      ],
      "source": [
        "!python3 -m pip install -U yt-dlp"
      ]
    },
    {
      "cell_type": "code",
      "source": [
        "# insatall fasttext for checking language type\n",
        "!git clone https://github.com/facebookresearch/fastText.git\n",
        "%cd fastText\n",
        "!pip install ."
      ],
      "metadata": {
        "id": "269xUEzgV9VQ",
        "outputId": "43c7cfaf-fa4f-4061-f6cf-57b23b91aa1d",
        "colab": {
          "base_uri": "https://localhost:8080/"
        }
      },
      "execution_count": 3,
      "outputs": [
        {
          "output_type": "stream",
          "name": "stdout",
          "text": [
            "Cloning into 'fastText'...\n",
            "remote: Enumerating objects: 3854, done.\u001b[K\n",
            "remote: Total 3854 (delta 0), reused 0 (delta 0), pack-reused 3854\u001b[K\n",
            "Receiving objects: 100% (3854/3854), 8.22 MiB | 30.19 MiB/s, done.\n",
            "Resolving deltas: 100% (2417/2417), done.\n",
            "/content/fastText\n",
            "Processing /content/fastText\n",
            "\u001b[33m  DEPRECATION: A future pip version will change local packages to be built in-place without first copying to a temporary directory. We recommend you use --use-feature=in-tree-build to test your packages with this new behavior before it becomes the default.\n",
            "   pip 21.3 will remove support for this functionality. You can find discussion regarding this at https://github.com/pypa/pip/issues/7555.\u001b[0m\n",
            "Collecting pybind11>=2.2\n",
            "  Using cached pybind11-2.9.1-py2.py3-none-any.whl (211 kB)\n",
            "Requirement already satisfied: setuptools>=0.7.0 in /usr/local/lib/python3.7/dist-packages (from fasttext==0.9.2) (57.4.0)\n",
            "Requirement already satisfied: numpy in /usr/local/lib/python3.7/dist-packages (from fasttext==0.9.2) (1.19.5)\n",
            "Building wheels for collected packages: fasttext\n",
            "  Building wheel for fasttext (setup.py) ... \u001b[?25l\u001b[?25hdone\n",
            "  Created wheel for fasttext: filename=fasttext-0.9.2-cp37-cp37m-linux_x86_64.whl size=3128379 sha256=55360f8f57641bf8aa2a26ed747e8fb2e1c0d5dc3e0f8dad1ec4bc9b8a5eb1ca\n",
            "  Stored in directory: /tmp/pip-ephem-wheel-cache-no9zdywp/wheels/22/04/6e/b3aba25c1a5845898b5871a0df37c2126cb0cc9326ad0c08e7\n",
            "Successfully built fasttext\n",
            "Installing collected packages: pybind11, fasttext\n",
            "Successfully installed fasttext-0.9.2 pybind11-2.9.1\n"
          ]
        }
      ]
    },
    {
      "cell_type": "code",
      "source": [
        "import fasttext\n",
        "\n",
        "% cd /content\n",
        "! wget https://dl.fbaipublicfiles.com/fasttext/supervised-models/lid.176.bin\n",
        "model = fasttext.load_model(\"/content/lid.176.bin\")\n",
        "\n",
        "def predict_language(text, model, k=1):\n",
        "  label, prob = model.predict(text, k)\n",
        "  return list(zip([l.replace(\"__label__\", \"\") for l in label], prob))"
      ],
      "metadata": {
        "id": "xI_yokGzZiU1",
        "outputId": "e346cf24-3835-4114-f2c6-035bf21e8168",
        "colab": {
          "base_uri": "https://localhost:8080/"
        }
      },
      "execution_count": 4,
      "outputs": [
        {
          "output_type": "stream",
          "name": "stdout",
          "text": [
            "/content\n",
            "--2022-02-14 13:03:06--  https://dl.fbaipublicfiles.com/fasttext/supervised-models/lid.176.bin\n",
            "Resolving dl.fbaipublicfiles.com (dl.fbaipublicfiles.com)... 172.67.9.4, 104.22.74.142, 104.22.75.142, ...\n",
            "Connecting to dl.fbaipublicfiles.com (dl.fbaipublicfiles.com)|172.67.9.4|:443... connected.\n",
            "HTTP request sent, awaiting response... 200 OK\n",
            "Length: 131266198 (125M) [application/octet-stream]\n",
            "Saving to: ‘lid.176.bin’\n",
            "\n",
            "lid.176.bin         100%[===================>] 125.18M  40.3MB/s    in 3.1s    \n",
            "\n",
            "2022-02-14 13:03:10 (40.3 MB/s) - ‘lid.176.bin’ saved [131266198/131266198]\n",
            "\n"
          ]
        }
      ]
    },
    {
      "cell_type": "code",
      "source": [
        "#@title ##**URLの入力** { display-mode: \"form\" }\n",
        "#@markdown ダウンロードする動画のURLを指定します。\n",
        "\n",
        "\n",
        "target_url = 'https://www.youtube.com/watch?v=2LYIeQkjphI' #@param {type:\"string\"}\n"
      ],
      "metadata": {
        "id": "hQf1y07-_h5_"
      },
      "execution_count": 5,
      "outputs": []
    },
    {
      "cell_type": "code",
      "source": [
        "!yt-dlp --format bestvideo[ext=mp4]+bestaudio[ext=m4a]  --write-comments --write-auto-subs --sub-langs \"en.*,ja\"--write-description --extractor-args \"youtube:player-client=android,web;comment_sort:new\" -o \"downloaded_video\" $target_url \n",
        "#!yt-dlp --no-add-metadata --format bestvideo[ext=mp4]+bestaudio[ext=m4a]  --extractor-args \"comment_sort:top\"  --merge-output-format mp4  --write-description --write-comments --write-auto-subs $target_url"
      ],
      "metadata": {
        "id": "wzYVznCy3IWx",
        "outputId": "d01de36b-17e2-4bc8-9d13-c998dc432b95",
        "colab": {
          "base_uri": "https://localhost:8080/"
        }
      },
      "execution_count": 6,
      "outputs": [
        {
          "output_type": "stream",
          "name": "stdout",
          "text": [
            "[youtube] 2LYIeQkjphI: Downloading webpage\n",
            "[youtube] 2LYIeQkjphI: Downloading android player API JSON\n",
            "[info] 2LYIeQkjphI: Downloading 1 format(s): 137+140\n",
            "[youtube] Downloading comment section API JSON\n",
            "[youtube] Downloading ~74 comments\n",
            "[youtube] Sorting comments by newest first\n",
            "[youtube] Downloading comment API JSON page 1 (0/74)\n",
            "[youtube]     Downloading comment API JSON reply thread 1 (1/74)\n",
            "[youtube]     Downloading comment API JSON reply thread 2 (3/74)\n",
            "[youtube]     Downloading comment API JSON reply thread 3 (6/74)\n",
            "[youtube]     Downloading comment API JSON reply thread 4 (8/74)\n",
            "[youtube]     Downloading comment API JSON reply thread 5 (10/74)\n",
            "[youtube]     Downloading comment API JSON reply thread 6 (12/74)\n",
            "[youtube]     Downloading comment API JSON reply thread 7 (14/74)\n",
            "[youtube]     Downloading comment API JSON reply thread 8 (19/74)\n",
            "[youtube]     Downloading comment API JSON reply thread 9 (22/74)\n",
            "[youtube]     Downloading comment API JSON reply thread 10 (24/74)\n",
            "[youtube]     Downloading comment API JSON reply thread 11 (26/74)\n",
            "[youtube]     Downloading comment API JSON reply thread 12 (28/74)\n",
            "[youtube]     Downloading comment API JSON reply thread 13 (30/74)\n",
            "[youtube]     Downloading comment API JSON reply thread 14 (32/74)\n",
            "[youtube]     Downloading comment API JSON reply thread 15 (34/74)\n",
            "[youtube]     Downloading comment API JSON reply thread 16 (36/74)\n",
            "[youtube]     Downloading comment API JSON reply thread 17 (40/74)\n",
            "[youtube]     Downloading comment API JSON reply thread 18 (42/74)\n",
            "[youtube]     Downloading comment API JSON reply thread 19 (44/74)\n",
            "[youtube] Downloading comment API JSON page 2 (45/74)\n",
            "[youtube]     Downloading comment API JSON reply thread 1 (46/74)\n",
            "[youtube]     Downloading comment API JSON reply thread 2 (48/74)\n",
            "[youtube]     Downloading comment API JSON reply thread 3 (50/74)\n",
            "[youtube]     Downloading comment API JSON reply thread 4 (54/74)\n",
            "[youtube]     Downloading comment API JSON reply thread 5 (56/74)\n",
            "[youtube]     Downloading comment API JSON reply thread 6 (58/74)\n",
            "[youtube]     Downloading comment API JSON reply thread 7 (64/74)\n",
            "[youtube]     Downloading comment API JSON reply thread 8 (66/74)\n",
            "[youtube]     Downloading comment API JSON reply thread 9 (68/74)\n",
            "[youtube]     Downloading comment API JSON reply thread 10 (72/74)\n",
            "[youtube] Extracted 74 comments\n",
            "[info] Writing video subtitles to: downloaded_video.en-ar.vtt\n",
            "[download] Destination: downloaded_video.en-ar.vtt\n",
            "\u001b[K[download] 100% of 802.00B in \u001b[1;37m00:00\u001b[0m\n",
            "[info] Writing video subtitles to: downloaded_video.en-bs.vtt\n",
            "[download] Destination: downloaded_video.en-bs.vtt\n",
            "\u001b[K[download] 100% of 822.00B in \u001b[1;37m00:00\u001b[0m\n",
            "[info] Writing video subtitles to: downloaded_video.en-bg.vtt\n",
            "[download] Destination: downloaded_video.en-bg.vtt\n",
            "\u001b[K[download] 100% of 806.00B in \u001b[1;37m00:00\u001b[0m\n",
            "[info] Writing video subtitles to: downloaded_video.en-zh-Hans.vtt\n",
            "[download] Destination: downloaded_video.en-zh-Hans.vtt\n",
            "\u001b[K[download] 100% of 806.00B in \u001b[1;37m00:00\u001b[0m\n",
            "[info] Writing video subtitles to: downloaded_video.en-zh-Hant.vtt\n",
            "[download] Destination: downloaded_video.en-zh-Hant.vtt\n",
            "\u001b[K[download] 100% of 803.00B in \u001b[1;37m00:00\u001b[0m\n",
            "[info] Writing video subtitles to: downloaded_video.en-hr.vtt\n",
            "[download] Destination: downloaded_video.en-hr.vtt\n",
            "\u001b[K[download] 100% of 822.00B in \u001b[1;37m00:00\u001b[0m\n",
            "[info] Writing video subtitles to: downloaded_video.en-cs.vtt\n",
            "[download] Destination: downloaded_video.en-cs.vtt\n",
            "\u001b[K[download] 100% of 803.00B in \u001b[1;37m00:00\u001b[0m\n",
            "[info] Writing video subtitles to: downloaded_video.en-da.vtt\n",
            "[download] Destination: downloaded_video.en-da.vtt\n",
            "\u001b[K[download] 100% of 836.00B in \u001b[1;37m00:00\u001b[0m\n",
            "[info] Writing video subtitles to: downloaded_video.en-nl.vtt\n",
            "[download] Destination: downloaded_video.en-nl.vtt\n",
            "\u001b[K[download] 100% of 828.00B in \u001b[1;37m00:00\u001b[0m\n",
            "[info] Writing video subtitles to: downloaded_video.en-en.vtt\n",
            "[download] Destination: downloaded_video.en-en.vtt\n",
            "\u001b[K[download] 100% of 834.00B in \u001b[1;37m00:00\u001b[0m\n",
            "[info] Writing video subtitles to: downloaded_video.en-fi.vtt\n",
            "[download] Destination: downloaded_video.en-fi.vtt\n",
            "\u001b[K[download] 100% of 785.00B in \u001b[1;37m00:00\u001b[0m\n",
            "[info] Writing video subtitles to: downloaded_video.en-fr.vtt\n",
            "[download] Destination: downloaded_video.en-fr.vtt\n",
            "\u001b[K[download] 100% of 839.00B in \u001b[1;37m00:00\u001b[0m\n",
            "[info] Writing video subtitles to: downloaded_video.en-de.vtt\n",
            "[download] Destination: downloaded_video.en-de.vtt\n",
            "\u001b[K[download] 100% of 797.00B in \u001b[1;37m00:00\u001b[0m\n",
            "[info] Writing video subtitles to: downloaded_video.en-el.vtt\n",
            "[download] Destination: downloaded_video.en-el.vtt\n",
            "\u001b[K[download] 100% of 811.00B in \u001b[1;37m00:00\u001b[0m\n",
            "[info] Writing video subtitles to: downloaded_video.en-iw.vtt\n",
            "[download] Destination: downloaded_video.en-iw.vtt\n",
            "\u001b[K[download] 100% of 811.00B in \u001b[1;37m00:00\u001b[0m\n",
            "[info] Writing video subtitles to: downloaded_video.en-hi.vtt\n",
            "[download] Destination: downloaded_video.en-hi.vtt\n",
            "\u001b[K[download] 100% of 827.00B in \u001b[1;37m00:00\u001b[0m\n",
            "[info] Writing video subtitles to: downloaded_video.en-hu.vtt\n",
            "[download] Destination: downloaded_video.en-hu.vtt\n",
            "\u001b[K[download] 100% of 818.00B in \u001b[1;37m00:00\u001b[0m\n",
            "[info] Writing video subtitles to: downloaded_video.en-is.vtt\n",
            "[download] Destination: downloaded_video.en-is.vtt\n",
            "\u001b[K[download] 100% of 834.00B in \u001b[1;37m00:00\u001b[0m\n",
            "[info] Writing video subtitles to: downloaded_video.en-id.vtt\n",
            "[download] Destination: downloaded_video.en-id.vtt\n",
            "\u001b[K[download] 100% of 803.00B in \u001b[1;37m00:00\u001b[0m\n",
            "[info] Writing video subtitles to: downloaded_video.en-it.vtt\n",
            "[download] Destination: downloaded_video.en-it.vtt\n",
            "\u001b[K[download] 100% of 822.00B in \u001b[1;37m00:00\u001b[0m\n",
            "[info] Writing video subtitles to: downloaded_video.en-ja.vtt\n",
            "[download] Destination: downloaded_video.en-ja.vtt\n",
            "\u001b[K[download] 100% of 779.00B in \u001b[1;37m00:00\u001b[0m\n",
            "[info] Writing video subtitles to: downloaded_video.en-ko.vtt\n",
            "[download] Destination: downloaded_video.en-ko.vtt\n",
            "\u001b[K[download] 100% of 809.00B in \u001b[1;37m00:00\u001b[0m\n",
            "[info] Writing video subtitles to: downloaded_video.en-mk.vtt\n",
            "[download] Destination: downloaded_video.en-mk.vtt\n",
            "\u001b[K[download] 100% of 824.00B in \u001b[1;37m00:00\u001b[0m\n",
            "[info] Writing video subtitles to: downloaded_video.en-no.vtt\n",
            "[download] Destination: downloaded_video.en-no.vtt\n",
            "\u001b[K[download] 100% of 837.00B in \u001b[1;37m00:00\u001b[0m\n",
            "[info] Writing video subtitles to: downloaded_video.en-pl.vtt\n",
            "[download] Destination: downloaded_video.en-pl.vtt\n",
            "\u001b[K[download] 100% of 803.00B in \u001b[1;37m00:00\u001b[0m\n",
            "[info] Writing video subtitles to: downloaded_video.en-pt.vtt\n",
            "[download] Destination: downloaded_video.en-pt.vtt\n",
            "\u001b[K[download] 100% of 831.00B in \u001b[1;37m00:00\u001b[0m\n",
            "[info] Writing video subtitles to: downloaded_video.en-ro.vtt\n",
            "[download] Destination: downloaded_video.en-ro.vtt\n",
            "\u001b[K[download] 100% of 816.00B in \u001b[1;37m00:00\u001b[0m\n",
            "[info] Writing video subtitles to: downloaded_video.en-ru.vtt\n",
            "[download] Destination: downloaded_video.en-ru.vtt\n",
            "\u001b[K[download] 100% of 804.00B in \u001b[1;37m00:00\u001b[0m\n",
            "[info] Writing video subtitles to: downloaded_video.en-sr.vtt\n",
            "[download] Destination: downloaded_video.en-sr.vtt\n",
            "\u001b[K[download] 100% of 825.00B in \u001b[1;37m00:00\u001b[0m\n",
            "[info] Writing video subtitles to: downloaded_video.en-sk.vtt\n",
            "[download] Destination: downloaded_video.en-sk.vtt\n",
            "\u001b[K[download] 100% of 806.00B in \u001b[1;37m00:00\u001b[0m\n",
            "[info] Writing video subtitles to: downloaded_video.en-sl.vtt\n",
            "[download] Destination: downloaded_video.en-sl.vtt\n",
            "\u001b[K[download] 100% of 814.00B in \u001b[1;37m00:00\u001b[0m\n",
            "[info] Writing video subtitles to: downloaded_video.en-es.vtt\n",
            "[download] Destination: downloaded_video.en-es.vtt\n",
            "\u001b[K[download] 100% of 834.00B in \u001b[1;37m00:00\u001b[0m\n",
            "[info] Writing video subtitles to: downloaded_video.en-sv.vtt\n",
            "[download] Destination: downloaded_video.en-sv.vtt\n",
            "\u001b[K[download] 100% of 834.00B in \u001b[1;37m00:00\u001b[0m\n",
            "[info] Writing video subtitles to: downloaded_video.en-th.vtt\n",
            "[download] Destination: downloaded_video.en-th.vtt\n",
            "\u001b[K[download] 100% of 847.00B in \u001b[1;37m00:00\u001b[0m\n",
            "[info] Writing video subtitles to: downloaded_video.en-tr.vtt\n",
            "[download] Destination: downloaded_video.en-tr.vtt\n",
            "\u001b[K[download] 100% of 809.00B in \u001b[1;37m00:00\u001b[0m\n",
            "[info] Writing video metadata as JSON to: downloaded_video.info.json\n",
            "[download] Destination: downloaded_video.f137.mp4\n",
            "\u001b[K[download] 100% of 232.93MiB in \u001b[1;37m00:41\u001b[0m\n",
            "[download] Destination: downloaded_video.f140.m4a\n",
            "\u001b[K[download] 100% of 7.60MiB in \u001b[1;37m00:01\u001b[0m\n",
            "[Merger] Merging formats into \"downloaded_video.mp4\"\n",
            "Deleting original file downloaded_video.f137.mp4 (pass -k to keep)\n",
            "Deleting original file downloaded_video.f140.m4a (pass -k to keep)\n"
          ]
        }
      ]
    },
    {
      "cell_type": "code",
      "source": [
        "import json\n",
        "import requests\n",
        "\n",
        "json_open = open ('/content/downloaded_video.info.json','r')\n",
        "json_load = json.load(json_open)\n",
        "\n",
        "comment_data= json_load['comments']\n",
        "for icomment in comment_data:\n",
        "#  print(icomment['text'])\n",
        "#  print(icomment['author'],\" : \",icomment['like_count'],\" : \",icomment['text'])\n",
        "  langstr = icomment['text'].replace('\\n',' ')\n",
        "  print(langstr)\n",
        "  lang_result=predict_language(langstr, model)[0]\n",
        "  print(lang_result[0])\n",
        "  "
      ],
      "metadata": {
        "colab": {
          "base_uri": "https://localhost:8080/"
        },
        "id": "x7c9Uo-YtVnU",
        "outputId": "1a58d1cd-2ee0-4f1c-8a37-547ba27771af"
      },
      "execution_count": 7,
      "outputs": [
        {
          "output_type": "stream",
          "name": "stdout",
          "text": [
            "Great view top Clas photo\n",
            "en\n",
            "Thanks for appreciate it!!\n",
            "en\n",
            "Cómo lucen los drones!\n",
            "es\n",
            "La verdad que sacan unas vistas increíbles!\n",
            "es\n",
            "Hola, Gonzalo haz un vídeo explicándonos los costes económicos de comprar tu Suzuki Jimny. Gracias.\n",
            "es\n",
            "Bjr ´ J’ai le même ´ et j’habite en station de ski  L’hiver je fais pareil ´😂👍⛄️ Et l’été en Corse ´beaucoup de piste assez harde ´ Quel beau et bon véhicule ´ Plutôt sauterelles que rhinocéros ´ 😉😉😉\n",
            "fr\n",
            "Hehehe très vrai, nous sommes heureux que vous puissiez en profiter !! Salutations!\n",
            "fr\n",
            "Falta la toma en la que te quedas empanzado... xDDD\n",
            "es\n",
            "Jajajajaja es que cuando empancé fue al día siguiente! 🤣🤣🤣\n",
            "es\n",
            "Muy buen vídeo\n",
            "es\n",
            "Muchas gracias, un abrazo!\n",
            "es\n",
            "Vaya chulada de vídeo y en el minuto 2:50 la placa de hielo creí que el Jimmy se iría algo\n",
            "es\n",
            "Sobre el hielo se comportan muy bien esos neumáticos con baja presión. Un saludo!\n",
            "es\n",
            "Hola, que tal? Me pareció ver, en un video anterior, que el nuevo Jimmy tiene una primera reductora más corta que la de los SJ410/413. Es esto así? Muchas gracias. 👍\n",
            "es\n",
            "Hola! Nosotros bien y tú? Pues realmente creo que es al contrario, el SJ410 tiene una reductora más corta que el SJ413 y el SJ413 más corta que el Jimny. Un saludo!\n",
            "es\n",
            " @JimGonzax 4x4 Off Road Experience  Sí, es cierto que la del SJ413 tiene una reductora más larga que la del SJ410. De hecho yo recuerdo que llevaba un desarrollo ya muy largo. Pues la del Jimmy debe ser como la primera marcha de un todocamino.\n",
            "es\n",
            "Si te refieres a la reductora del Jimny es 100 veces mejor que la de un todocamino, si es por la primera larga, pues supongo que serán similares, es cortita. Lo cierto es que tiene mucha fuerza, un saludo!!\n",
            "es\n",
            " @JimGonzax 4x4 Off Road Experience  Un saludo, igualmente!🙋 Ánimos! 💪Seguid en esta línea! 👍\n",
            "es\n",
            "Ha haaa!!! Casi tenemos el baile!!! 😅 Me encanta ver en la nieve cuando toca el puente. 21cm de altura? No?! Gracias compadres! 👎🤏 => 👍🙂\n",
            "es\n",
            "Si, 21 cm de altura libre y salió bien!!! Un abrazo y gracias a tí por el apoyo!\n",
            "es\n",
            " @JimGonzax 4x4 Off Road Experience  Ombre! De nada. A mi no me cuesta nada... Sino algunos minutos. Haceis con el Jimny lo que me gustaría hacer si tuviera uno... Me encanta! 😅\n",
            "es\n",
            "Si señor!!! Muy guapo, cómo va el jimny por la nieve💨💨\n",
            "es\n",
            "Tira muy bien, es ligero y con buenos neumáticos, un saludo!!\n",
            "es\n",
            "Para ser tu coche de diario, le das mucha caña... Jejeje, una de dos, o algún día le rompes algo, o el suzuki es el mejor coche construido... Es que vas muy a saco en todos los vídeos... Te da igual nieve blandita... Que piedrolos.... Jajajaj  Un saludo, sigue siendo tan auténtico... No lo puede hacer cualquiera\n",
            "es\n",
            "Hay que probarlo, hay que probarlo 😜! 48.000 kilómetros y de momento como el primer día!! Muchas gracias por el apoyo, un abrazo!\n",
            "es\n",
            "Imágenes increíbles!\n",
            "es\n",
            "Si, se ven muy bien, la verdad, un saludo!\n",
            "es\n",
            "gran video como siempre aki os dejo el like deseando ver ese jinmy un dia con un bloqueo ver q es capaz de hacer ojala llegue un abrazo\n",
            "es\n",
            "Esperamos irlo mejorando poco a poco y el bloqueo es una de las mejoras que estamos barajando para dentro de unos meses, un saludo!\n",
            "es\n",
            "Muy guapo el vídeo Gonzalo, se nota que disfrutaste 😁\n",
            "es\n",
            "Muy cierto, nos lo pasamos genial! Un saludo y gracias por el comentario!\n",
            "es\n",
            "Que bien te lo has pasado xaval😄😄😄💪💪💪💪por la nieve es un disfrute\n",
            "es\n",
            "Si, la verdad que estuvo divertido, un saludo!\n",
            "es\n",
            "Para un uso diario en ciudad y en autopistas el Jimny non es adecuado gasta muchas gasolina come gasolina como un hombre árabe en desierto de el Sahara!\n",
            "es\n",
            "El nuevo Jimny no gasta mucho, unos 6,4 litros a los 100 kilómetros. Un saludo!\n",
            "es\n",
            "Parece de veder conducir y un bombi snow cat de un hombre alaskano y nativo inuit!\n",
            "es\n",
            "Jajajaja 😆\n",
            "id\n",
            " @JimGonzax 4x4 Off Road Experience  El próximo video espero de  veder tu Jimny vs un Peugeot p4 y un umm 4x4\n",
            "es\n",
            "Jajajaa complicado el UMM aunque los estuve viendo para comprar!! Y gracias a tí he conocido el Peugeot P4, me encanta!! Si podemos adquirir uno, lo haremos, es una joya!!! Un abrazo!\n",
            "es\n",
            "Bellissimo\n",
            "it\n",
            "Grazie mille, un abbraccio!\n",
            "it\n",
            "👍🏼🚀🌪🌪🌪 es interesante. VEr un vehículo desde 0 km. Y ver que se siente diferente, que desperfectos se empieza a notar. 👍🏼⚡️ espero escucharlo, verlo  pronto en un video 10k km con el jimny o 5k o 15 😂 50k\n",
            "es\n",
            "Jejejeje pues hasta el momento ya habiendo superado los 48.000 kms va de lujo, ni un problema. Un saludo!!!\n",
            "es\n",
            "Bonita imágenes. Pero que tal si comentas la experiencia en nieve.\n",
            "es\n",
            "Una imágen vale más que mil palabras 😜\n",
            "es\n",
            "La nieve siempre me gusta, ya sea para ir en bici, en todoterreno, a pie, hacer muñecos, bolas, tengo nieve-adicción!!!\n",
            "es\n",
            "Jajajaa ya te digo!! Mientras no se complique la cosa, es divertida! Jajajaja Un saludo!\n",
            "es\n",
            "👍👍👍\n",
            "ja\n",
            "😉😉\n",
            "ta\n",
            "Ojalá que el otro año siga saliendo, ahí tendré la plata y me lo compro.\n",
            "es\n",
            "Esperemos que puedas conseguir el tuyo! Un saludo!\n",
            "es\n",
            "Nose de donde eres pero en España sale solo 2 plazas\n",
            "es\n",
            " @Alberto Morán casado  Chile\n",
            "es\n",
            "👎 te puce uno! Si, de verdad... No puedo querer 100% de lo que publicas. - Coño, no la as visto todavía...! - Es un principio 😂😂😂\n",
            "es\n",
            "Jajajaja que risas, un saludo! 😉\n",
            "es\n",
            "Porque no se ve el video\n",
            "es\n",
            "Porque estaba en estreno, ya está disponible.. Un saludo!\n",
            "es\n",
            "Hola gonz como va el vehículo en consumos? como dice el compañero, de diario, en tramos de ciudad, autovia y carreteras secundarias? Tiene un consumo elevado? Notaste la diferencia tras cambiar los neumáticos? Gracias por este contenido, ayuda mucho.\n",
            "es\n",
            "El Jimny come mucha gasolina para el uso diario de ciudad es mejor un Fiat Panda GPL!\n",
            "es\n",
            " @Luca Malesci  si, es comprensible siendo un 1.5 atmosférico, pero a ver si gonz nos puede dar cifras.\n",
            "es\n",
            " @Gabri Marbella   yo tengo el tío de el nuevo Jimny tengo un suzuki Jimny original 1.3 gasolina desde el año 2001 y come mucha gasolina en ciudad y también en el campo haciendo off-road en pistas\n",
            "es\n",
            "@Gabri Marbella el consumo es muy bajo para el vehículo que es, te puedo asegurar que he llegado a hacer consumos de 5,7 a los 100 aunque de media te puedo decir que era raro que subiera de 6,5 litros a los 100 con los neumáticos de serie. Con los neumáticos nuevos (los dedicados a Off Road, MT) estoy teniendo consumos de 8 litros a los 100 e incluso se podría bajar. Espero haberte ayudado, un saludo!\n",
            "es\n",
            " @Gabri Marbella  los atmosféricos no beben tanto como los pintan, a veces incluso menos que un turbo\n",
            "es\n",
            "😁👍\n",
            "pl\n",
            "😃😃😃😉\n",
            "eo\n",
            "Vaya disfrute💪💪💪💪😄\n",
            "es\n",
            "Ya te digo!! Un saludo!\n",
            "es\n",
            "Que tal es este coche como vehículo único de diario? Merece la pena la nueva versión biplaza?\n",
            "es\n",
            "Yo lo uso a diario y va muuuuy bien la nueva versión pues depende yo tengo la otra versión del 2019 y con dos pekes va de maravilla sin asientos atrás pues................. Es otra historia\n",
            "es\n",
            " @juan abe  muchas gracias por tu respuesta\n",
            "es\n",
            "@Djira sak va muy bien como vehículo de diario, de hecho es el uso que le doy, no tiene un consumo alto y la versión industrial bi plaza... ya depende del uso que le vayas a dar, si te compensa tener 2 plazas solamente! Para campo y diario de una o 2 personas es perfecto. Un saludo!\n",
            "es\n",
            "Parece que va ha tener unas imágenes espectaculares 🤷‍♀️. Con ganas de verlo\n",
            "es\n",
            "Las hay, las hay! 😉\n",
            "es\n",
            " @JimGonzax 4x4 Off Road Experience  What gear did you find best for driving in the snow with the Jimny?\n",
            "en\n"
          ]
        }
      ]
    },
    {
      "cell_type": "code",
      "source": [
        ""
      ],
      "metadata": {
        "id": "GP54ttyKfrr_"
      },
      "execution_count": null,
      "outputs": []
    },
    {
      "cell_type": "code",
      "source": [
        "#@title ##**動画を表示** { display-mode: \"form\" }\n",
        "\n",
        "#@markdown　ダウンロードした動画を表示します。\n",
        "\n",
        "#@markdown  下のフィールド右端の▼をクリックして”download\"を選択すると、表示されている動画をダウンロードできます。\n",
        "import cv2\n",
        "\n",
        "what_next = 'play' #@param [\"play\", \"download\"]\n",
        "if what_next == \"play\":\n",
        "  display(mpy.ipython_display(\"/content/downloaded_video.mp4\", autoplay=1, maxduration=600, width=640))\n",
        "else:\n",
        "  files.download('/content/video.mp4')\n",
        "\n",
        "print (\"フレームレート: \",fps_of_video)\n",
        "print (\"総フレーム数　: \",frames_of_video)\n",
        "print (\"解像度（横）　: \",width_of_video)\n",
        "print (\"解像度（縦）　: \",height_of_video)"
      ],
      "metadata": {
        "id": "XYyUVpUQBebS",
        "colab": {
          "base_uri": "https://localhost:8080/",
          "height": 240
        },
        "outputId": "c0d77711-e701-429f-f654-f89bb8589487"
      },
      "execution_count": null,
      "outputs": [
        {
          "output_type": "error",
          "ename": "NameError",
          "evalue": "ignored",
          "traceback": [
            "\u001b[0;31m---------------------------------------------------------------------------\u001b[0m",
            "\u001b[0;31mNameError\u001b[0m                                 Traceback (most recent call last)",
            "\u001b[0;32m<ipython-input-10-461ada4da7d7>\u001b[0m in \u001b[0;36m<module>\u001b[0;34m()\u001b[0m\n\u001b[1;32m      8\u001b[0m \u001b[0mwhat_next\u001b[0m \u001b[0;34m=\u001b[0m \u001b[0;34m'play'\u001b[0m \u001b[0;31m#@param [\"play\", \"download\"]\u001b[0m\u001b[0;34m\u001b[0m\u001b[0;34m\u001b[0m\u001b[0m\n\u001b[1;32m      9\u001b[0m \u001b[0;32mif\u001b[0m \u001b[0mwhat_next\u001b[0m \u001b[0;34m==\u001b[0m \u001b[0;34m\"play\"\u001b[0m\u001b[0;34m:\u001b[0m\u001b[0;34m\u001b[0m\u001b[0;34m\u001b[0m\u001b[0m\n\u001b[0;32m---> 10\u001b[0;31m   \u001b[0mdisplay\u001b[0m\u001b[0;34m(\u001b[0m\u001b[0mmpy\u001b[0m\u001b[0;34m.\u001b[0m\u001b[0mipython_display\u001b[0m\u001b[0;34m(\u001b[0m\u001b[0;34m\"/content/downloaded_video.mp4\"\u001b[0m\u001b[0;34m,\u001b[0m \u001b[0mautoplay\u001b[0m\u001b[0;34m=\u001b[0m\u001b[0;36m1\u001b[0m\u001b[0;34m,\u001b[0m \u001b[0mmaxduration\u001b[0m\u001b[0;34m=\u001b[0m\u001b[0;36m600\u001b[0m\u001b[0;34m,\u001b[0m \u001b[0mwidth\u001b[0m\u001b[0;34m=\u001b[0m\u001b[0;36m640\u001b[0m\u001b[0;34m)\u001b[0m\u001b[0;34m)\u001b[0m\u001b[0;34m\u001b[0m\u001b[0;34m\u001b[0m\u001b[0m\n\u001b[0m\u001b[1;32m     11\u001b[0m \u001b[0;32melse\u001b[0m\u001b[0;34m:\u001b[0m\u001b[0;34m\u001b[0m\u001b[0;34m\u001b[0m\u001b[0m\n\u001b[1;32m     12\u001b[0m   \u001b[0mfiles\u001b[0m\u001b[0;34m.\u001b[0m\u001b[0mdownload\u001b[0m\u001b[0;34m(\u001b[0m\u001b[0;34m'/content/video.mp4'\u001b[0m\u001b[0;34m)\u001b[0m\u001b[0;34m\u001b[0m\u001b[0;34m\u001b[0m\u001b[0m\n",
            "\u001b[0;31mNameError\u001b[0m: name 'mpy' is not defined"
          ]
        }
      ]
    }
  ]
}