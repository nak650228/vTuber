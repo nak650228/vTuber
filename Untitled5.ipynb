{
  "nbformat": 4,
  "nbformat_minor": 0,
  "metadata": {
    "colab": {
      "name": "Untitled5.ipynb",
      "provenance": [],
      "authorship_tag": "ABX9TyNLwmboG55NBgCmLa1+hR9T",
      "include_colab_link": true
    },
    "kernelspec": {
      "name": "python3",
      "display_name": "Python 3"
    },
    "language_info": {
      "name": "python"
    }
  },
  "cells": [
    {
      "cell_type": "markdown",
      "metadata": {
        "id": "view-in-github",
        "colab_type": "text"
      },
      "source": [
        "<a href=\"https://colab.research.google.com/github/nak650228/vTuber/blob/main/Untitled5.ipynb\" target=\"_parent\"><img src=\"https://colab.research.google.com/assets/colab-badge.svg\" alt=\"Open In Colab\"/></a>"
      ]
    },
    {
      "cell_type": "code",
      "execution_count": 1,
      "metadata": {
        "colab": {
          "base_uri": "https://localhost:8080/"
        },
        "id": "5wCXNopLvRsU",
        "outputId": "748eb6c8-4598-4f28-8cfa-daa254ca2161"
      },
      "outputs": [
        {
          "output_type": "stream",
          "name": "stdout",
          "text": [
            "Collecting yt-dlp\n",
            "  Downloading yt_dlp-2022.2.4-py2.py3-none-any.whl (2.5 MB)\n",
            "\u001b[K     |████████████████████████████████| 2.5 MB 7.4 MB/s \n",
            "\u001b[?25hCollecting mutagen\n",
            "  Downloading mutagen-1.45.1-py3-none-any.whl (218 kB)\n",
            "\u001b[K     |████████████████████████████████| 218 kB 42.1 MB/s \n",
            "\u001b[?25hCollecting pycryptodomex\n",
            "  Downloading pycryptodomex-3.14.1-cp35-abi3-manylinux2010_x86_64.whl (2.0 MB)\n",
            "\u001b[K     |████████████████████████████████| 2.0 MB 60.7 MB/s \n",
            "\u001b[?25hCollecting websockets\n",
            "  Downloading websockets-10.1-cp37-cp37m-manylinux_2_5_x86_64.manylinux1_x86_64.manylinux_2_12_x86_64.manylinux2010_x86_64.whl (111 kB)\n",
            "\u001b[K     |████████████████████████████████| 111 kB 33.6 MB/s \n",
            "\u001b[?25hInstalling collected packages: websockets, pycryptodomex, mutagen, yt-dlp\n",
            "Successfully installed mutagen-1.45.1 pycryptodomex-3.14.1 websockets-10.1 yt-dlp-2022.2.4\n"
          ]
        }
      ],
      "source": [
        "!python3 -m pip install -U yt-dlp"
      ]
    },
    {
      "cell_type": "code",
      "source": [
        "#@title ##**URLの入力** { display-mode: \"form\" }\n",
        "#@markdown ダウンロードする動画のURLを指定します。\n",
        "\n",
        "\n",
        "target_url = 'https://www.youtube.com/watch?v=tZdmCmYjscw&t=2s' #@param {type:\"string\"}\n"
      ],
      "metadata": {
        "id": "hQf1y07-_h5_"
      },
      "execution_count": 1,
      "outputs": []
    },
    {
      "cell_type": "code",
      "source": [
        "!yt-dlp --format bestvideo[ext=mp4]+bestaudio[ext=m4a]  --write-comments --extractor-args \"youtube:player-client=web\" --extractor-args \"comment_sort:top\" -o \"downloaded_video\" $target_url \n",
        "#!yt-dlp --no-add-metadata --format bestvideo[ext=mp4]+bestaudio[ext=m4a]  --extractor-args \"comment_sort:top\"  --merge-output-format mp4  --write-description --write-comments --write-auto-subs $target_url"
      ],
      "metadata": {
        "colab": {
          "base_uri": "https://localhost:8080/"
        },
        "id": "wzYVznCy3IWx",
        "outputId": "bcae1fba-99a7-4b35-d3b0-5b3e835eff98"
      },
      "execution_count": 4,
      "outputs": [
        {
          "output_type": "stream",
          "name": "stdout",
          "text": [
            "[youtube] tZdmCmYjscw: Downloading webpage\n",
            "[info] tZdmCmYjscw: Downloading 1 format(s): 137+140\n",
            "[youtube] Downloading comment section API JSON\n",
            "[youtube] Downloading ~10 comments\n",
            "[youtube] Sorting comments by newest first\n",
            "[youtube] Downloading comment API JSON page 1 (0/10)\n",
            "[youtube] Extracted 10 comments\n",
            "[info] Writing video metadata as JSON to: downloaded_video.info.json\n",
            "[download] Destination: downloaded_video.f137.mp4\n",
            "\u001b[K[download] 100% of 319.41MiB in \u001b[1;37m00:21\u001b[0m\n",
            "[download] Destination: downloaded_video.f140.m4a\n",
            "\u001b[K[download] 100% of 12.01MiB in \u001b[1;37m00:01\u001b[0m\n",
            "[Merger] Merging formats into \"downloaded_video.mp4\"\n",
            "Deleting original file downloaded_video.f137.mp4 (pass -k to keep)\n",
            "Deleting original file downloaded_video.f140.m4a (pass -k to keep)\n"
          ]
        }
      ]
    },
    {
      "cell_type": "code",
      "source": [
        "import json\n",
        "json_open = open ('/content/downloaded_video.info.json','r')\n",
        "json_load = json.load(json_open)\n",
        "\n",
        "print(json_load['comments'] )"
      ],
      "metadata": {
        "colab": {
          "base_uri": "https://localhost:8080/"
        },
        "id": "x7c9Uo-YtVnU",
        "outputId": "3736beb6-e5c4-48cf-d907-158da8d96762"
      },
      "execution_count": 5,
      "outputs": [
        {
          "output_type": "stream",
          "name": "stdout",
          "text": [
            "[{'id': 'UgyxWxm24ZuDJq1d20p4AaABAg', 'text': 'こんばんは｡\\n美味しそうなハンバーグですね✨\\n可愛いエプロン姿に😍', 'timestamp': 1644152160, 'time_text': '54 minutes ago', 'like_count': 0, 'is_favorited': False, 'author': '憂奈丸ゆうなまる', 'author_id': 'UCCOTGT9iIZaVqCvEq-JNY7A', 'author_thumbnail': 'https://yt3.ggpht.com/ytc/AKedOLTvu4Ehp4X2aHsKFHg7Iv6zVtV6gsAp18lxNg89=s176-c-k-c0x00ffffff-no-rj', 'author_is_uploader': False, 'parent': 'root'}, {'id': 'UgzgwmHdN2SNYA-weZV4AaABAg', 'text': 'カワイイ！\\n当たり前な事を呟いた時\\nなんか負けた気がした', 'timestamp': 1644148800, 'time_text': '2 hours ago', 'like_count': 1, 'is_favorited': False, 'author': 'nexter6', 'author_id': 'UCrHCRTBCQLieyYoAA-HIg2w', 'author_thumbnail': 'https://yt3.ggpht.com/ytc/AKedOLQAI_YhdqGrcYmHAxzehVfbMkIz9ELCyGab0A=s176-c-k-c0x00ffffff-no-rj', 'author_is_uploader': False, 'parent': 'root'}, {'id': 'UgzROV66bPPMHMdtRXh4AaABAg', 'text': '美子さん❗くまモンのエプロン素敵です💓途中の早送りには😂でも美味しいハンバーグできましたね💖💖💖', 'timestamp': 1644145200, 'time_text': '3 hours ago', 'like_count': 1, 'is_favorited': False, 'author': '児玉源太郎', 'author_id': 'UClExHj_Erx6O5jw2zHXP6Jw', 'author_thumbnail': 'https://yt3.ggpht.com/ytc/AKedOLRlBMtdmwKIrz3lheGtbatwB8uXPR_WZmvNeg=s176-c-k-c0x00ffffff-no-rj', 'author_is_uploader': False, 'parent': 'root'}, {'id': 'UgyAi9SdMPdIz_TCRql4AaABAg', 'text': 'アルバム美子の私の心はハンバーグですね！', 'timestamp': 1644145200, 'time_text': '3 hours ago', 'like_count': 1, 'is_favorited': False, 'author': '高橋功', 'author_id': 'UCmIahs-f2Qo0ETdvNiGQDnA', 'author_thumbnail': 'https://yt3.ggpht.com/ytc/AKedOLQUk0F-SG2sdTBbQBZN0FDXwkuW_Nb0x_Aqaw=s176-c-k-c0x00ffffff-no-rj', 'author_is_uploader': False, 'parent': 'root'}, {'id': 'Ugz-CJK--luJwURVj-x4AaABAg', 'text': '美子さん、くまモンのエプロンとほっかむり、それと三つ編み、可愛いですね。ハンバーグ食べたいなあ、、、。', 'timestamp': 1644145200, 'time_text': '3 hours ago', 'like_count': 1, 'is_favorited': False, 'author': '赤沼加一', 'author_id': 'UCY4HFhnWKhw5rNT5VOiYoKw', 'author_thumbnail': 'https://yt3.ggpht.com/ytc/AKedOLQB3_md7dg25CAhrtJuNeStmzAe2n3ihtAmMQ=s176-c-k-c0x00ffffff-no-rj', 'author_is_uploader': False, 'parent': 'root'}, {'id': 'UgzXSCO-9_BnuWJ6sjB4AaABAg', 'text': '宮崎美子さん、三編み可愛いです。👨\\u200d🍳👩\\u200d🍳ハンバーグ、めちゃめちゃ美味しそうです。👨\\u200d🍳👩\\u200d🍳\\n次回の動画も、楽しみにしております。👨\\u200d👩\\u200d👧\\u200d👦👨\\u200d👩\\u200d👧\\u200d👧👨\\u200d👩\\u200d👦\\u200d👦', 'timestamp': 1644145200, 'time_text': '3 hours ago', 'like_count': 2, 'is_favorited': False, 'author': '瑞紀 西川', 'author_id': 'UCcdwrI9VAv05SGlEVBosvTg', 'author_thumbnail': 'https://yt3.ggpht.com/ytc/AKedOLR1iRL22EAOx09DtV_5tRQW7VgvziPIsftr_qJEsijRgg=s176-c-k-c0x00ffffff-no-rj', 'author_is_uploader': False, 'parent': 'root'}, {'id': 'UgxPg9P5tEXnrJfcvJl4AaABAg', 'text': 'いつも思うのですが、収録は美子さんの家で撮っているのでしょうか？', 'timestamp': 1644145200, 'time_text': '3 hours ago', 'like_count': 1, 'is_favorited': False, 'author': '650228 nak', 'author_id': 'UC7r8siAKZaYp4qFrAsHu6fw', 'author_thumbnail': 'https://yt3.ggpht.com/ytc/AKedOLQ-FMQ_-60hPN5ymruGkUeMLLZrTLXRx-fclLTl=s176-c-k-c0x00ffffff-no-rj', 'author_is_uploader': False, 'parent': 'root'}, {'id': 'UgwY1bJ6p6ZyV_ucoDp4AaABAg', 'text': '三つ編み似合ってます🥺💕', 'timestamp': 1644145200, 'time_text': '3 hours ago', 'like_count': 2, 'is_favorited': False, 'author': '重岡産のニラ', 'author_id': 'UCFt9332r7-7aQ1qbxOop30w', 'author_thumbnail': 'https://yt3.ggpht.com/ytc/AKedOLQyEPbKAEFkLRfcRPwK18f-UbbJLVqqKQ3JEU4xZR-WvA=s176-c-k-c0x00ffffff-no-rj', 'author_is_uploader': False, 'parent': 'root'}, {'id': 'UgyQwjdwY5WYvQl_Zqx4AaABAg', 'text': 'こんばんはよし子ちゃん\\nハンバ～グ美味しそうですね\\u3000出来上がりが楽しみです\\nよし子ちゃんのハンバ～グ食べてみたいね\\u3000見ているだけで嬉しい気持ち（\\u3000´∀｀）になりました\\u3000ありがとうございます', 'timestamp': 1644145200, 'time_text': '3 hours ago', 'like_count': 3, 'is_favorited': False, 'author': '立川のタクちゃん', 'author_id': 'UCcyf8F2oF3YLmsLgakiI6nw', 'author_thumbnail': 'https://yt3.ggpht.com/ytc/AKedOLRYZDjwgKs9jPBu_MpsOFTs2VhSeh3Ax9ms0t16Eg=s176-c-k-c0x00ffffff-no-rj', 'author_is_uploader': False, 'parent': 'root'}, {'id': 'Ugyh8s8QmQXuPKipdg94AaABAg', 'text': '美味しそうなハンバーグ。後宮崎美子さん、プリキュアのナレーションめっちゃ良かったです。', 'timestamp': 1644145200, 'time_text': '3 hours ago', 'like_count': 5, 'is_favorited': False, 'author': '吉良たかとも', 'author_id': 'UC2AOpvO4P6i1d_9H8wsMjfA', 'author_thumbnail': 'https://yt3.ggpht.com/4CRchlq-w2GPTfcp-JtPFUc9QHk_0fvZCOW_5dXzz1pcSVT2z-dr_9brf2ocf2DkkOAAOAwJ=s176-c-k-c0x00ffffff-no-rj', 'author_is_uploader': False, 'parent': 'root'}]\n"
          ]
        }
      ]
    },
    {
      "cell_type": "code",
      "source": [
        "#@title ##**動画を表示** { display-mode: \"form\" }\n",
        "\n",
        "#@markdown　ダウンロードした動画を表示します。\n",
        "\n",
        "#@markdown  下のフィールド右端の▼をクリックして”download\"を選択すると、表示されている動画をダウンロードできます。\n",
        "what_next = 'play' #@param [\"play\", \"download\"]\n",
        "if what_next == \"play\":\n",
        "#  display(mpy.ipython_display(\"/content/video.mp4\", height=400, autoplay=1, maxduration=600))\n",
        "  display(mpy.ipython_display(\"/content/video.mp4\", autoplay=1, maxduration=600, width=640))\n",
        "else:\n",
        "  files.download('/content/video.mp4')\n",
        "\n",
        "print (\"フレームレート: \",fps_of_video)\n",
        "print (\"総フレーム数　: \",frames_of_video)\n",
        "print (\"解像度（横）　: \",width_of_video)\n",
        "print (\"解像度（縦）　: \",height_of_video)"
      ],
      "metadata": {
        "id": "XYyUVpUQBebS",
        "colab": {
          "base_uri": "https://localhost:8080/",
          "height": 240
        },
        "outputId": "f6080bb5-dcd2-4dc4-b8f3-f6101518690f"
      },
      "execution_count": 7,
      "outputs": [
        {
          "output_type": "error",
          "ename": "NameError",
          "evalue": "ignored",
          "traceback": [
            "\u001b[0;31m---------------------------------------------------------------------------\u001b[0m",
            "\u001b[0;31mNameError\u001b[0m                                 Traceback (most recent call last)",
            "\u001b[0;32m<ipython-input-7-7afacfc25ba8>\u001b[0m in \u001b[0;36m<module>\u001b[0;34m()\u001b[0m\n\u001b[1;32m      7\u001b[0m \u001b[0;32mif\u001b[0m \u001b[0mwhat_next\u001b[0m \u001b[0;34m==\u001b[0m \u001b[0;34m\"play\"\u001b[0m\u001b[0;34m:\u001b[0m\u001b[0;34m\u001b[0m\u001b[0;34m\u001b[0m\u001b[0m\n\u001b[1;32m      8\u001b[0m \u001b[0;31m#  display(mpy.ipython_display(\"/content/video.mp4\", height=400, autoplay=1, maxduration=600))\u001b[0m\u001b[0;34m\u001b[0m\u001b[0;34m\u001b[0m\u001b[0;34m\u001b[0m\u001b[0m\n\u001b[0;32m----> 9\u001b[0;31m   \u001b[0mdisplay\u001b[0m\u001b[0;34m(\u001b[0m\u001b[0mmpy\u001b[0m\u001b[0;34m.\u001b[0m\u001b[0mipython_display\u001b[0m\u001b[0;34m(\u001b[0m\u001b[0;34m\"/content/video.mp4\"\u001b[0m\u001b[0;34m,\u001b[0m \u001b[0mautoplay\u001b[0m\u001b[0;34m=\u001b[0m\u001b[0;36m1\u001b[0m\u001b[0;34m,\u001b[0m \u001b[0mmaxduration\u001b[0m\u001b[0;34m=\u001b[0m\u001b[0;36m600\u001b[0m\u001b[0;34m,\u001b[0m \u001b[0mwidth\u001b[0m\u001b[0;34m=\u001b[0m\u001b[0;36m640\u001b[0m\u001b[0;34m)\u001b[0m\u001b[0;34m)\u001b[0m\u001b[0;34m\u001b[0m\u001b[0;34m\u001b[0m\u001b[0m\n\u001b[0m\u001b[1;32m     10\u001b[0m \u001b[0;32melse\u001b[0m\u001b[0;34m:\u001b[0m\u001b[0;34m\u001b[0m\u001b[0;34m\u001b[0m\u001b[0m\n\u001b[1;32m     11\u001b[0m   \u001b[0mfiles\u001b[0m\u001b[0;34m.\u001b[0m\u001b[0mdownload\u001b[0m\u001b[0;34m(\u001b[0m\u001b[0;34m'/content/video.mp4'\u001b[0m\u001b[0;34m)\u001b[0m\u001b[0;34m\u001b[0m\u001b[0;34m\u001b[0m\u001b[0m\n",
            "\u001b[0;31mNameError\u001b[0m: name 'mpy' is not defined"
          ]
        }
      ]
    }
  ]
}