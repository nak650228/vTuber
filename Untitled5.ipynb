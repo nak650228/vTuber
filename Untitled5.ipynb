{
  "nbformat": 4,
  "nbformat_minor": 0,
  "metadata": {
    "colab": {
      "name": "Untitled5.ipynb",
      "provenance": [],
      "authorship_tag": "ABX9TyOrPomHvOakveA5gspMOl1H",
      "include_colab_link": true
    },
    "kernelspec": {
      "name": "python3",
      "display_name": "Python 3"
    },
    "language_info": {
      "name": "python"
    }
  },
  "cells": [
    {
      "cell_type": "markdown",
      "metadata": {
        "id": "view-in-github",
        "colab_type": "text"
      },
      "source": [
        "<a href=\"https://colab.research.google.com/github/nak650228/vTuber/blob/main/Untitled5.ipynb\" target=\"_parent\"><img src=\"https://colab.research.google.com/assets/colab-badge.svg\" alt=\"Open In Colab\"/></a>"
      ]
    },
    {
      "cell_type": "code",
      "execution_count": 1,
      "metadata": {
        "colab": {
          "base_uri": "https://localhost:8080/",
          "height": 0
        },
        "id": "5wCXNopLvRsU",
        "outputId": "94f1a3d3-cca6-4aff-91dc-23fcad70fa36"
      },
      "outputs": [
        {
          "output_type": "stream",
          "name": "stdout",
          "text": [
            "Collecting yt-dlp\n",
            "  Downloading yt_dlp-2022.1.21-py2.py3-none-any.whl (2.5 MB)\n",
            "\u001b[K     |████████████████████████████████| 2.5 MB 4.2 MB/s \n",
            "\u001b[?25hCollecting pycryptodomex\n",
            "  Downloading pycryptodomex-3.14.0-cp35-abi3-manylinux2010_x86_64.whl (2.0 MB)\n",
            "\u001b[K     |████████████████████████████████| 2.0 MB 45.8 MB/s \n",
            "\u001b[?25hCollecting mutagen\n",
            "  Downloading mutagen-1.45.1-py3-none-any.whl (218 kB)\n",
            "\u001b[K     |████████████████████████████████| 218 kB 42.4 MB/s \n",
            "\u001b[?25hCollecting websockets\n",
            "  Downloading websockets-10.1-cp37-cp37m-manylinux_2_5_x86_64.manylinux1_x86_64.manylinux_2_12_x86_64.manylinux2010_x86_64.whl (111 kB)\n",
            "\u001b[K     |████████████████████████████████| 111 kB 56.5 MB/s \n",
            "\u001b[?25hInstalling collected packages: websockets, pycryptodomex, mutagen, yt-dlp\n",
            "Successfully installed mutagen-1.45.1 pycryptodomex-3.14.0 websockets-10.1 yt-dlp-2022.1.21\n"
          ]
        }
      ],
      "source": [
        "!python3 -m pip install -U yt-dlp"
      ]
    },
    {
      "cell_type": "code",
      "source": [
        "!yt-dlp --write-description --write-comments --write-auto-subs https://www.youtube.com/watch?v=ag2z-NaWsBk"
      ],
      "metadata": {
        "colab": {
          "base_uri": "https://localhost:8080/",
          "height": 0
        },
        "id": "wzYVznCy3IWx",
        "outputId": "419561f3-381b-4f9c-c156-7f57f2bab792"
      },
      "execution_count": 4,
      "outputs": [
        {
          "output_type": "stream",
          "name": "stdout",
          "text": [
            "[youtube] ag2z-NaWsBk: Downloading webpage\n",
            "[youtube] ag2z-NaWsBk: Downloading android player API JSON\n",
            "[info] ag2z-NaWsBk: Downloading 1 format(s): 248+251\n",
            "[youtube] Downloading comment section API JSON\n",
            "[youtube] Downloading ~25 comments\n",
            "[youtube] Sorting comments by newest first\n",
            "[youtube] Downloading comment API JSON page 1 (0/25)\n",
            "[youtube]     Downloading comment API JSON reply thread 1 (19/25)\n",
            "[youtube] Downloading comment API JSON page 2 (21/25)\n",
            "[youtube] Extracted 30 comments\n",
            "[info] Writing video description to: 【崖っぷち韓国経済】韓国大統領選挙,もしも反日強硬派の李在明が大統領になれば日本は危機に立たされる! [ag2z-NaWsBk].description\n",
            "[info] Writing video subtitles to: 【崖っぷち韓国経済】韓国大統領選挙,もしも反日強硬派の李在明が大統領になれば日本は危機に立たされる! [ag2z-NaWsBk].en.vtt\n",
            "[download] Destination: 【崖っぷち韓国経済】韓国大統領選挙,もしも反日強硬派の李在明が大統領になれば日本は危機に立たされる! [ag2z-NaWsBk].en.vtt\n",
            "\u001b[K[download] 100% of 80.54KiB in \u001b[1;37m00:00\u001b[0m\n",
            "[info] Writing video metadata as JSON to: 【崖っぷち韓国経済】韓国大統領選挙,もしも反日強硬派の李在明が大統領になれば日本は危機に立たされる! [ag2z-NaWsBk].info.json\n",
            "[download] Destination: 【崖っぷち韓国経済】韓国大統領選挙,もしも反日強硬派の李在明が大統領になれば日本は危機に立たされる! [ag2z-NaWsBk].f248.webm\n",
            "\u001b[K[download] 100% of 63.23MiB in \u001b[1;37m00:04\u001b[0m\n",
            "[download] Destination: 【崖っぷち韓国経済】韓国大統領選挙,もしも反日強硬派の李在明が大統領になれば日本は危機に立たされる! [ag2z-NaWsBk].f251.webm\n",
            "\u001b[K[download] 100% of 9.40MiB in \u001b[1;37m00:00\u001b[0m\n",
            "[Merger] Merging formats into \"【崖っぷち韓国経済】韓国大統領選挙,もしも反日強硬派の李在明が大統領になれば日本は危機に立たされる! [ag2z-NaWsBk].webm\"\n",
            "Deleting original file 【崖っぷち韓国経済】韓国大統領選挙,もしも反日強硬派の李在明が大統領になれば日本は危機に立たされる! [ag2z-NaWsBk].f251.webm (pass -k to keep)\n",
            "Deleting original file 【崖っぷち韓国経済】韓国大統領選挙,もしも反日強硬派の李在明が大統領になれば日本は危機に立たされる! [ag2z-NaWsBk].f248.webm (pass -k to keep)\n"
          ]
        }
      ]
    }
  ]
}