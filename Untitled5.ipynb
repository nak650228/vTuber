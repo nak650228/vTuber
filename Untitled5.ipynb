{
  "nbformat": 4,
  "nbformat_minor": 0,
  "metadata": {
    "colab": {
      "name": "Untitled5.ipynb",
      "provenance": [],
      "authorship_tag": "ABX9TyPI1jd0b3JSQYmADS9vBBS+",
      "include_colab_link": true
    },
    "kernelspec": {
      "name": "python3",
      "display_name": "Python 3"
    },
    "language_info": {
      "name": "python"
    }
  },
  "cells": [
    {
      "cell_type": "markdown",
      "metadata": {
        "id": "view-in-github",
        "colab_type": "text"
      },
      "source": [
        "<a href=\"https://colab.research.google.com/github/nak650228/vTuber/blob/main/Untitled5.ipynb\" target=\"_parent\"><img src=\"https://colab.research.google.com/assets/colab-badge.svg\" alt=\"Open In Colab\"/></a>"
      ]
    },
    {
      "cell_type": "code",
      "source": [
        "# coding:utf-8\n",
        "from IPython.display import clear_output"
      ],
      "metadata": {
        "id": "MrL1gU2LW1uf"
      },
      "execution_count": 7,
      "outputs": []
    },
    {
      "cell_type": "code",
      "execution_count": 8,
      "metadata": {
        "id": "5wCXNopLvRsU"
      },
      "outputs": [],
      "source": [
        "!python3 -m pip install -U yt-dlp\n",
        "clear_output()"
      ]
    },
    {
      "cell_type": "code",
      "source": [
        "# insatall fasttext for checking language type\n",
        "!git clone https://github.com/facebookresearch/fastText.git\n",
        "%cd fastText\n",
        "!pip install .\n",
        "clear_output()"
      ],
      "metadata": {
        "id": "269xUEzgV9VQ"
      },
      "execution_count": 9,
      "outputs": []
    },
    {
      "cell_type": "code",
      "source": [
        "import fasttext\n",
        "\n",
        "% cd /content\n",
        "! wget https://dl.fbaipublicfiles.com/fasttext/supervised-models/lid.176.bin\n",
        "model = fasttext.load_model(\"/content/lid.176.bin\")\n",
        "\n",
        "def predict_language(text, model, k=1):\n",
        "  label, prob = model.predict(text, k)\n",
        "  return list(zip([l.replace(\"__label__\", \"\") for l in label], prob))\n",
        "\n",
        "clear_output()"
      ],
      "metadata": {
        "id": "xI_yokGzZiU1",
        "outputId": "d998e5df-b3f1-4751-e56d-66be2129fe21",
        "colab": {
          "base_uri": "https://localhost:8080/"
        }
      },
      "execution_count": 4,
      "outputs": [
        {
          "output_type": "stream",
          "name": "stdout",
          "text": [
            "/content\n",
            "--2022-02-16 13:36:42--  https://dl.fbaipublicfiles.com/fasttext/supervised-models/lid.176.bin\n",
            "Resolving dl.fbaipublicfiles.com (dl.fbaipublicfiles.com)... 172.67.9.4, 104.22.74.142, 104.22.75.142, ...\n",
            "Connecting to dl.fbaipublicfiles.com (dl.fbaipublicfiles.com)|172.67.9.4|:443... connected.\n",
            "HTTP request sent, awaiting response... 200 OK\n",
            "Length: 131266198 (125M) [application/octet-stream]\n",
            "Saving to: ‘lid.176.bin’\n",
            "\n",
            "lid.176.bin         100%[===================>] 125.18M  52.5MB/s    in 2.4s    \n",
            "\n",
            "2022-02-16 13:36:44 (52.5 MB/s) - ‘lid.176.bin’ saved [131266198/131266198]\n",
            "\n"
          ]
        }
      ]
    },
    {
      "cell_type": "code",
      "source": [
        "#@title ##**URLの入力** { display-mode: \"form\" }\n",
        "#@markdown ダウンロードする動画のURLを指定します。\n",
        "\n",
        "\n",
        "target_url = 'https://www.youtube.com/watch?v=2LYIeQkjphI' #@param {type:\"string\"}\n"
      ],
      "metadata": {
        "id": "hQf1y07-_h5_"
      },
      "execution_count": 5,
      "outputs": []
    },
    {
      "cell_type": "code",
      "source": [
        "!yt-dlp --format bestvideo[ext=mp4]+bestaudio[ext=m4a]  --write-comments --write-auto-subs --sub-langs \"en.*,ja\"--write-description --extractor-args \"youtube:player-client=android,web;comment_sort:new\" -o \"downloaded_video\" $target_url \n",
        "#!yt-dlp --no-add-metadata --format bestvideo[ext=mp4]+bestaudio[ext=m4a]  --extractor-args \"comment_sort:top\"  --merge-output-format mp4  --write-description --write-comments --write-auto-subs $target_url\n",
        "\n",
        "clear_output()"
      ],
      "metadata": {
        "id": "wzYVznCy3IWx"
      },
      "execution_count": 10,
      "outputs": []
    },
    {
      "cell_type": "code",
      "source": [
        "import json\n",
        "import requests\n",
        "\n",
        "json_open = open ('/content/downloaded_video.info.json','r')\n",
        "json_load = json.load(json_open)\n",
        "\n",
        "comment_data= json_load['comments']\n",
        "for icomment in comment_data:\n",
        "#  print(icomment['text'])\n",
        "#  print(icomment['author'],\" : \",icomment['like_count'],\" : \",icomment['text'])\n",
        "  langstr = icomment['text'].replace('\\n',' ')\n",
        "  print(langstr)\n",
        "  lang_result=predict_language(langstr, model)[0]\n",
        "  print(lang_result[0])\n",
        "  "
      ],
      "metadata": {
        "colab": {
          "base_uri": "https://localhost:8080/"
        },
        "id": "x7c9Uo-YtVnU",
        "outputId": "1a58d1cd-2ee0-4f1c-8a37-547ba27771af"
      },
      "execution_count": null,
      "outputs": [
        {
          "output_type": "stream",
          "name": "stdout",
          "text": [
            "Great view top Clas photo\n",
            "en\n",
            "Thanks for appreciate it!!\n",
            "en\n",
            "Cómo lucen los drones!\n",
            "es\n",
            "La verdad que sacan unas vistas increíbles!\n",
            "es\n",
            "Hola, Gonzalo haz un vídeo explicándonos los costes económicos de comprar tu Suzuki Jimny. Gracias.\n",
            "es\n",
            "Bjr ´ J’ai le même ´ et j’habite en station de ski  L’hiver je fais pareil ´😂👍⛄️ Et l’été en Corse ´beaucoup de piste assez harde ´ Quel beau et bon véhicule ´ Plutôt sauterelles que rhinocéros ´ 😉😉😉\n",
            "fr\n",
            "Hehehe très vrai, nous sommes heureux que vous puissiez en profiter !! Salutations!\n",
            "fr\n",
            "Falta la toma en la que te quedas empanzado... xDDD\n",
            "es\n",
            "Jajajajaja es que cuando empancé fue al día siguiente! 🤣🤣🤣\n",
            "es\n",
            "Muy buen vídeo\n",
            "es\n",
            "Muchas gracias, un abrazo!\n",
            "es\n",
            "Vaya chulada de vídeo y en el minuto 2:50 la placa de hielo creí que el Jimmy se iría algo\n",
            "es\n",
            "Sobre el hielo se comportan muy bien esos neumáticos con baja presión. Un saludo!\n",
            "es\n",
            "Hola, que tal? Me pareció ver, en un video anterior, que el nuevo Jimmy tiene una primera reductora más corta que la de los SJ410/413. Es esto así? Muchas gracias. 👍\n",
            "es\n",
            "Hola! Nosotros bien y tú? Pues realmente creo que es al contrario, el SJ410 tiene una reductora más corta que el SJ413 y el SJ413 más corta que el Jimny. Un saludo!\n",
            "es\n",
            " @JimGonzax 4x4 Off Road Experience  Sí, es cierto que la del SJ413 tiene una reductora más larga que la del SJ410. De hecho yo recuerdo que llevaba un desarrollo ya muy largo. Pues la del Jimmy debe ser como la primera marcha de un todocamino.\n",
            "es\n",
            "Si te refieres a la reductora del Jimny es 100 veces mejor que la de un todocamino, si es por la primera larga, pues supongo que serán similares, es cortita. Lo cierto es que tiene mucha fuerza, un saludo!!\n",
            "es\n",
            " @JimGonzax 4x4 Off Road Experience  Un saludo, igualmente!🙋 Ánimos! 💪Seguid en esta línea! 👍\n",
            "es\n",
            "Ha haaa!!! Casi tenemos el baile!!! 😅 Me encanta ver en la nieve cuando toca el puente. 21cm de altura? No?! Gracias compadres! 👎🤏 => 👍🙂\n",
            "es\n",
            "Si, 21 cm de altura libre y salió bien!!! Un abrazo y gracias a tí por el apoyo!\n",
            "es\n",
            " @JimGonzax 4x4 Off Road Experience  Ombre! De nada. A mi no me cuesta nada... Sino algunos minutos. Haceis con el Jimny lo que me gustaría hacer si tuviera uno... Me encanta! 😅\n",
            "es\n",
            "Si señor!!! Muy guapo, cómo va el jimny por la nieve💨💨\n",
            "es\n",
            "Tira muy bien, es ligero y con buenos neumáticos, un saludo!!\n",
            "es\n",
            "Para ser tu coche de diario, le das mucha caña... Jejeje, una de dos, o algún día le rompes algo, o el suzuki es el mejor coche construido... Es que vas muy a saco en todos los vídeos... Te da igual nieve blandita... Que piedrolos.... Jajajaj  Un saludo, sigue siendo tan auténtico... No lo puede hacer cualquiera\n",
            "es\n",
            "Hay que probarlo, hay que probarlo 😜! 48.000 kilómetros y de momento como el primer día!! Muchas gracias por el apoyo, un abrazo!\n",
            "es\n",
            "Imágenes increíbles!\n",
            "es\n",
            "Si, se ven muy bien, la verdad, un saludo!\n",
            "es\n",
            "gran video como siempre aki os dejo el like deseando ver ese jinmy un dia con un bloqueo ver q es capaz de hacer ojala llegue un abrazo\n",
            "es\n",
            "Esperamos irlo mejorando poco a poco y el bloqueo es una de las mejoras que estamos barajando para dentro de unos meses, un saludo!\n",
            "es\n",
            "Muy guapo el vídeo Gonzalo, se nota que disfrutaste 😁\n",
            "es\n",
            "Muy cierto, nos lo pasamos genial! Un saludo y gracias por el comentario!\n",
            "es\n",
            "Que bien te lo has pasado xaval😄😄😄💪💪💪💪por la nieve es un disfrute\n",
            "es\n",
            "Si, la verdad que estuvo divertido, un saludo!\n",
            "es\n",
            "Para un uso diario en ciudad y en autopistas el Jimny non es adecuado gasta muchas gasolina come gasolina como un hombre árabe en desierto de el Sahara!\n",
            "es\n",
            "El nuevo Jimny no gasta mucho, unos 6,4 litros a los 100 kilómetros. Un saludo!\n",
            "es\n",
            "Parece de veder conducir y un bombi snow cat de un hombre alaskano y nativo inuit!\n",
            "es\n",
            "Jajajaja 😆\n",
            "id\n",
            " @JimGonzax 4x4 Off Road Experience  El próximo video espero de  veder tu Jimny vs un Peugeot p4 y un umm 4x4\n",
            "es\n",
            "Jajajaa complicado el UMM aunque los estuve viendo para comprar!! Y gracias a tí he conocido el Peugeot P4, me encanta!! Si podemos adquirir uno, lo haremos, es una joya!!! Un abrazo!\n",
            "es\n",
            "Bellissimo\n",
            "it\n",
            "Grazie mille, un abbraccio!\n",
            "it\n",
            "👍🏼🚀🌪🌪🌪 es interesante. VEr un vehículo desde 0 km. Y ver que se siente diferente, que desperfectos se empieza a notar. 👍🏼⚡️ espero escucharlo, verlo  pronto en un video 10k km con el jimny o 5k o 15 😂 50k\n",
            "es\n",
            "Jejejeje pues hasta el momento ya habiendo superado los 48.000 kms va de lujo, ni un problema. Un saludo!!!\n",
            "es\n",
            "Bonita imágenes. Pero que tal si comentas la experiencia en nieve.\n",
            "es\n",
            "Una imágen vale más que mil palabras 😜\n",
            "es\n",
            "La nieve siempre me gusta, ya sea para ir en bici, en todoterreno, a pie, hacer muñecos, bolas, tengo nieve-adicción!!!\n",
            "es\n",
            "Jajajaa ya te digo!! Mientras no se complique la cosa, es divertida! Jajajaja Un saludo!\n",
            "es\n",
            "👍👍👍\n",
            "ja\n",
            "😉😉\n",
            "ta\n",
            "Ojalá que el otro año siga saliendo, ahí tendré la plata y me lo compro.\n",
            "es\n",
            "Esperemos que puedas conseguir el tuyo! Un saludo!\n",
            "es\n",
            "Nose de donde eres pero en España sale solo 2 plazas\n",
            "es\n",
            " @Alberto Morán casado  Chile\n",
            "es\n",
            "👎 te puce uno! Si, de verdad... No puedo querer 100% de lo que publicas. - Coño, no la as visto todavía...! - Es un principio 😂😂😂\n",
            "es\n",
            "Jajajaja que risas, un saludo! 😉\n",
            "es\n",
            "Porque no se ve el video\n",
            "es\n",
            "Porque estaba en estreno, ya está disponible.. Un saludo!\n",
            "es\n",
            "Hola gonz como va el vehículo en consumos? como dice el compañero, de diario, en tramos de ciudad, autovia y carreteras secundarias? Tiene un consumo elevado? Notaste la diferencia tras cambiar los neumáticos? Gracias por este contenido, ayuda mucho.\n",
            "es\n",
            "El Jimny come mucha gasolina para el uso diario de ciudad es mejor un Fiat Panda GPL!\n",
            "es\n",
            " @Luca Malesci  si, es comprensible siendo un 1.5 atmosférico, pero a ver si gonz nos puede dar cifras.\n",
            "es\n",
            " @Gabri Marbella   yo tengo el tío de el nuevo Jimny tengo un suzuki Jimny original 1.3 gasolina desde el año 2001 y come mucha gasolina en ciudad y también en el campo haciendo off-road en pistas\n",
            "es\n",
            "@Gabri Marbella el consumo es muy bajo para el vehículo que es, te puedo asegurar que he llegado a hacer consumos de 5,7 a los 100 aunque de media te puedo decir que era raro que subiera de 6,5 litros a los 100 con los neumáticos de serie. Con los neumáticos nuevos (los dedicados a Off Road, MT) estoy teniendo consumos de 8 litros a los 100 e incluso se podría bajar. Espero haberte ayudado, un saludo!\n",
            "es\n",
            " @Gabri Marbella  los atmosféricos no beben tanto como los pintan, a veces incluso menos que un turbo\n",
            "es\n",
            "😁👍\n",
            "pl\n",
            "😃😃😃😉\n",
            "eo\n",
            "Vaya disfrute💪💪💪💪😄\n",
            "es\n",
            "Ya te digo!! Un saludo!\n",
            "es\n",
            "Que tal es este coche como vehículo único de diario? Merece la pena la nueva versión biplaza?\n",
            "es\n",
            "Yo lo uso a diario y va muuuuy bien la nueva versión pues depende yo tengo la otra versión del 2019 y con dos pekes va de maravilla sin asientos atrás pues................. Es otra historia\n",
            "es\n",
            " @juan abe  muchas gracias por tu respuesta\n",
            "es\n",
            "@Djira sak va muy bien como vehículo de diario, de hecho es el uso que le doy, no tiene un consumo alto y la versión industrial bi plaza... ya depende del uso que le vayas a dar, si te compensa tener 2 plazas solamente! Para campo y diario de una o 2 personas es perfecto. Un saludo!\n",
            "es\n",
            "Parece que va ha tener unas imágenes espectaculares 🤷‍♀️. Con ganas de verlo\n",
            "es\n",
            "Las hay, las hay! 😉\n",
            "es\n",
            " @JimGonzax 4x4 Off Road Experience  What gear did you find best for driving in the snow with the Jimny?\n",
            "en\n"
          ]
        }
      ]
    },
    {
      "cell_type": "code",
      "source": [
        ""
      ],
      "metadata": {
        "id": "GP54ttyKfrr_"
      },
      "execution_count": null,
      "outputs": []
    },
    {
      "cell_type": "code",
      "source": [
        "#@title ##**動画を表示** { display-mode: \"form\" }\n",
        "\n",
        "#@markdown　ダウンロードした動画を表示します。\n",
        "\n",
        "#@markdown  下のフィールド右端の▼をクリックして”download\"を選択すると、表示されている動画をダウンロードできます。\n",
        "import cv2\n",
        "\n",
        "what_next = 'play' #@param [\"play\", \"download\"]\n",
        "if what_next == \"play\":\n",
        "  display(mpy.ipython_display(\"/content/downloaded_video.mp4\", autoplay=1, maxduration=600, width=640))\n",
        "else:\n",
        "  files.download('/content/video.mp4')\n",
        "\n",
        "print (\"フレームレート: \",fps_of_video)\n",
        "print (\"総フレーム数　: \",frames_of_video)\n",
        "print (\"解像度（横）　: \",width_of_video)\n",
        "print (\"解像度（縦）　: \",height_of_video)"
      ],
      "metadata": {
        "id": "XYyUVpUQBebS",
        "colab": {
          "base_uri": "https://localhost:8080/",
          "height": 240
        },
        "outputId": "c0d77711-e701-429f-f654-f89bb8589487"
      },
      "execution_count": null,
      "outputs": [
        {
          "output_type": "error",
          "ename": "NameError",
          "evalue": "ignored",
          "traceback": [
            "\u001b[0;31m---------------------------------------------------------------------------\u001b[0m",
            "\u001b[0;31mNameError\u001b[0m                                 Traceback (most recent call last)",
            "\u001b[0;32m<ipython-input-10-461ada4da7d7>\u001b[0m in \u001b[0;36m<module>\u001b[0;34m()\u001b[0m\n\u001b[1;32m      8\u001b[0m \u001b[0mwhat_next\u001b[0m \u001b[0;34m=\u001b[0m \u001b[0;34m'play'\u001b[0m \u001b[0;31m#@param [\"play\", \"download\"]\u001b[0m\u001b[0;34m\u001b[0m\u001b[0;34m\u001b[0m\u001b[0m\n\u001b[1;32m      9\u001b[0m \u001b[0;32mif\u001b[0m \u001b[0mwhat_next\u001b[0m \u001b[0;34m==\u001b[0m \u001b[0;34m\"play\"\u001b[0m\u001b[0;34m:\u001b[0m\u001b[0;34m\u001b[0m\u001b[0;34m\u001b[0m\u001b[0m\n\u001b[0;32m---> 10\u001b[0;31m   \u001b[0mdisplay\u001b[0m\u001b[0;34m(\u001b[0m\u001b[0mmpy\u001b[0m\u001b[0;34m.\u001b[0m\u001b[0mipython_display\u001b[0m\u001b[0;34m(\u001b[0m\u001b[0;34m\"/content/downloaded_video.mp4\"\u001b[0m\u001b[0;34m,\u001b[0m \u001b[0mautoplay\u001b[0m\u001b[0;34m=\u001b[0m\u001b[0;36m1\u001b[0m\u001b[0;34m,\u001b[0m \u001b[0mmaxduration\u001b[0m\u001b[0;34m=\u001b[0m\u001b[0;36m600\u001b[0m\u001b[0;34m,\u001b[0m \u001b[0mwidth\u001b[0m\u001b[0;34m=\u001b[0m\u001b[0;36m640\u001b[0m\u001b[0;34m)\u001b[0m\u001b[0;34m)\u001b[0m\u001b[0;34m\u001b[0m\u001b[0;34m\u001b[0m\u001b[0m\n\u001b[0m\u001b[1;32m     11\u001b[0m \u001b[0;32melse\u001b[0m\u001b[0;34m:\u001b[0m\u001b[0;34m\u001b[0m\u001b[0;34m\u001b[0m\u001b[0m\n\u001b[1;32m     12\u001b[0m   \u001b[0mfiles\u001b[0m\u001b[0;34m.\u001b[0m\u001b[0mdownload\u001b[0m\u001b[0;34m(\u001b[0m\u001b[0;34m'/content/video.mp4'\u001b[0m\u001b[0;34m)\u001b[0m\u001b[0;34m\u001b[0m\u001b[0;34m\u001b[0m\u001b[0m\n",
            "\u001b[0;31mNameError\u001b[0m: name 'mpy' is not defined"
          ]
        }
      ]
    }
  ]
}