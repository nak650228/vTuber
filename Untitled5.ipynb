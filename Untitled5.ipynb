{
  "nbformat": 4,
  "nbformat_minor": 0,
  "metadata": {
    "colab": {
      "name": "Untitled5.ipynb",
      "provenance": [],
      "authorship_tag": "ABX9TyOlA3oBFVkO5ITs4kgsCF3x",
      "include_colab_link": true
    },
    "kernelspec": {
      "name": "python3",
      "display_name": "Python 3"
    },
    "language_info": {
      "name": "python"
    }
  },
  "cells": [
    {
      "cell_type": "markdown",
      "metadata": {
        "id": "view-in-github",
        "colab_type": "text"
      },
      "source": [
        "<a href=\"https://colab.research.google.com/github/nak650228/vTuber/blob/main/Untitled5.ipynb\" target=\"_parent\"><img src=\"https://colab.research.google.com/assets/colab-badge.svg\" alt=\"Open In Colab\"/></a>"
      ]
    },
    {
      "cell_type": "code",
      "execution_count": 1,
      "metadata": {
        "colab": {
          "base_uri": "https://localhost:8080/"
        },
        "id": "5wCXNopLvRsU",
        "outputId": "9bd73a05-8241-47fa-d6a5-dbde01f9b784"
      },
      "outputs": [
        {
          "output_type": "stream",
          "name": "stdout",
          "text": [
            "Collecting yt-dlp\n",
            "  Downloading yt_dlp-2022.1.21-py2.py3-none-any.whl (2.5 MB)\n",
            "\u001b[K     |████████████████████████████████| 2.5 MB 16.3 MB/s \n",
            "\u001b[?25hCollecting pycryptodomex\n",
            "  Downloading pycryptodomex-3.14.0-cp35-abi3-manylinux2010_x86_64.whl (2.0 MB)\n",
            "\u001b[K     |████████████████████████████████| 2.0 MB 49.9 MB/s \n",
            "\u001b[?25hCollecting mutagen\n",
            "  Downloading mutagen-1.45.1-py3-none-any.whl (218 kB)\n",
            "\u001b[K     |████████████████████████████████| 218 kB 47.8 MB/s \n",
            "\u001b[?25hCollecting websockets\n",
            "  Downloading websockets-10.1-cp37-cp37m-manylinux_2_5_x86_64.manylinux1_x86_64.manylinux_2_12_x86_64.manylinux2010_x86_64.whl (111 kB)\n",
            "\u001b[K     |████████████████████████████████| 111 kB 52.8 MB/s \n",
            "\u001b[?25hInstalling collected packages: websockets, pycryptodomex, mutagen, yt-dlp\n",
            "Successfully installed mutagen-1.45.1 pycryptodomex-3.14.0 websockets-10.1 yt-dlp-2022.1.21\n"
          ]
        }
      ],
      "source": [
        "!python3 -m pip install -U yt-dlp"
      ]
    },
    {
      "cell_type": "code",
      "source": [
        "#@title ##**URLの入力** { display-mode: \"form\" }\n",
        "#@markdown ダウンロードする動画のURLを指定します。\n",
        "\n",
        "\n",
        "target_url = 'https://www.youtube.com/watch?v=ag2z-NaWsBk' #@param {type:\"string\"}\n"
      ],
      "metadata": {
        "id": "hQf1y07-_h5_"
      },
      "execution_count": 5,
      "outputs": []
    },
    {
      "cell_type": "code",
      "source": [
        "!yt-dlp -o /content/video.mp4 --write-description --write-comments --write-auto-subs $target_url"
      ],
      "metadata": {
        "colab": {
          "base_uri": "https://localhost:8080/"
        },
        "id": "wzYVznCy3IWx",
        "outputId": "963e5b31-d0aa-40db-b905-9f8a33663638"
      },
      "execution_count": 7,
      "outputs": [
        {
          "output_type": "stream",
          "name": "stdout",
          "text": [
            "[youtube] ag2z-NaWsBk: Downloading webpage\n",
            "[youtube] ag2z-NaWsBk: Downloading android player API JSON\n",
            "[info] ag2z-NaWsBk: Downloading 1 format(s): 248+251\n",
            "[youtube] Downloading comment section API JSON\n",
            "[youtube] Downloading ~25 comments\n",
            "[youtube] Sorting comments by newest first\n",
            "[youtube] Downloading comment API JSON page 1 (0/25)\n",
            "[youtube]     Downloading comment API JSON reply thread 1 (19/25)\n",
            "[youtube] Downloading comment API JSON page 2 (21/25)\n",
            "[youtube] Extracted 30 comments\n",
            "[info] Writing video description to: /content/video.mp4.description\n",
            "[info] Writing video subtitles to: /content/video.mp4.en.vtt\n",
            "[download] Destination: /content/video.mp4.en.vtt\n",
            "\u001b[K[download] 100% of 80.20KiB in \u001b[1;37m00:00\u001b[0m\n",
            "[info] Writing video metadata as JSON to: /content/video.mp4.info.json\n",
            "[download] Destination: /content/video.mp4.f248.webm\n",
            "\u001b[K[download] 100% of 63.23MiB in \u001b[1;37m00:02\u001b[0m\n",
            "[download] Destination: /content/video.mp4.f251.webm\n",
            "\u001b[K[download] 100% of 9.40MiB in \u001b[1;37m00:00\u001b[0m\n",
            "[Merger] Merging formats into \"/content/video.mp4.webm\"\n",
            "Deleting original file /content/video.mp4.f251.webm (pass -k to keep)\n",
            "Deleting original file /content/video.mp4.f248.webm (pass -k to keep)\n"
          ]
        }
      ]
    },
    {
      "cell_type": "code",
      "source": [
        "#@title ##**動画を表示** { display-mode: \"form\" }\n",
        "\n",
        "#@markdown　ダウンロードした動画を表示します。\n",
        "\n",
        "#@markdown  下のフィールド右端の▼をクリックして”download\"を選択すると、表示されている動画をダウンロードできます。\n",
        "what_next = 'play' #@param [\"play\", \"download\"]\n",
        "if what_next == \"play\":\n",
        "#  display(mpy.ipython_display(\"/content/video.mp4\", height=400, autoplay=1, maxduration=600))\n",
        "  display(mpy.ipython_display(\"/content/video.mp4\", autoplay=1, maxduration=600, width=640))\n",
        "else:\n",
        "  files.download('/content/video.mp4')\n",
        "\n",
        "print (\"フレームレート: \",fps_of_video)\n",
        "print (\"総フレーム数　: \",frames_of_video)\n",
        "print (\"解像度（横）　: \",width_of_video)\n",
        "print (\"解像度（縦）　: \",height_of_video)"
      ],
      "metadata": {
        "id": "XYyUVpUQBebS"
      },
      "execution_count": null,
      "outputs": []
    }
  ]
}